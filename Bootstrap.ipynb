{
 "cells": [
  {
   "cell_type": "code",
   "execution_count": 1,
   "id": "metallic-stuff",
   "metadata": {},
   "outputs": [],
   "source": [
    "using Distributions\n",
    "using Optim\n",
    "using DataFrames\n",
    "\n"
   ]
  },
  {
   "cell_type": "code",
   "execution_count": 2,
   "id": "broke-dimension",
   "metadata": {},
   "outputs": [],
   "source": [
    "N=1000\n",
    "K=3;"
   ]
  },
  {
   "cell_type": "code",
   "execution_count": 4,
   "id": "alleged-metabolism",
   "metadata": {},
   "outputs": [
    {
     "ename": "LoadError",
     "evalue": "\u001b[91mUndefVarError: eye not defined\u001b[39m",
     "output_type": "error",
     "traceback": [
      "\u001b[91mUndefVarError: eye not defined\u001b[39m",
      "",
      "Stacktrace:",
      " [1] top-level scope at In[4]:1",
      " [2] include_string(::Function, ::Module, ::String, ::String) at .\\loading.jl:1091"
     ]
    }
   ],
   "source": [
    "genX = MvNormal(eye(K))\n",
    "X = rand(genX,N)\n",
    "X = X'\n",
    "X_noconstant = X\n",
    "constant = ones(N)\n",
    "X = [constant X]\n",
    "genEpsilon = Normal(0, 1)\n",
    "epsilon = rand(genEpsilon,N)\n",
    "trueParams = [0.01,0.05,0.05,0.07]\n",
    "Y = X*trueParams + epsilon "
   ]
  },
  {
   "cell_type": "code",
   "execution_count": null,
   "id": "logical-burden",
   "metadata": {},
   "outputs": [],
   "source": []
  }
 ],
 "metadata": {
  "kernelspec": {
   "display_name": "Julia 1.5.4",
   "language": "julia",
   "name": "julia-1.5"
  },
  "language_info": {
   "file_extension": ".jl",
   "mimetype": "application/julia",
   "name": "julia",
   "version": "1.5.4"
  }
 },
 "nbformat": 4,
 "nbformat_minor": 5
}
