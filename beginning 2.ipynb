{
 "cells": [
  {
   "cell_type": "code",
   "execution_count": 2,
   "id": "serial-mistress",
   "metadata": {},
   "outputs": [],
   "source": [
    "using Distributions, CSV, DataFrames, Statistics, Plots"
   ]
  },
  {
   "cell_type": "code",
   "execution_count": 10,
   "id": "excited-creek",
   "metadata": {},
   "outputs": [
    {
     "data": {
      "text/plain": [
       "10×10 Array{Int64,2}:\n",
       "  2   2   2   2   2   2   2   2   2   2\n",
       "  4   4   4   4   4   4   4   4   4   4\n",
       "  6   6   6   6   6   6   6   6   6   6\n",
       "  8   8   8   8   8   8   8   8   8   8\n",
       " 10  10  10  10  10  10  10  10  10  10\n",
       " 12  12  12  12  12  12  12  12  12  12\n",
       " 14  14  14  14  14  14  14  14  14  14\n",
       " 16  16  16  16  16  16  16  16  16  16\n",
       " 18  18  18  18  18  18  18  18  18  18\n",
       " 20  20  20  20  20  20  20  20  20  20"
      ]
     },
     "execution_count": 10,
     "metadata": {},
     "output_type": "execute_result"
    }
   ],
   "source": [
    "[i+i for i ∈ 1:10, j ∈ 1:10] #continue with matrix"
   ]
  },
  {
   "cell_type": "code",
   "execution_count": 16,
   "id": "altered-handling",
   "metadata": {},
   "outputs": [
    {
     "data": {
      "text/plain": [
       "2×4 Array{Float64,2}:\n",
       " 43.9994  43.9994  43.9994  43.9994\n",
       " 43.9994  43.9994  43.9994  43.9994"
      ]
     },
     "execution_count": 16,
     "metadata": {},
     "output_type": "execute_result"
    }
   ],
   "source": [
    "zeros(2,4).+(44-2/3423) #recall zeros matrix"
   ]
  },
  {
   "cell_type": "code",
   "execution_count": 34,
   "id": "reasonable-partner",
   "metadata": {},
   "outputs": [
    {
     "data": {
      "text/plain": [
       "identidad (generic function with 1 method)"
      ]
     },
     "execution_count": 34,
     "metadata": {},
     "output_type": "execute_result"
    }
   ],
   "source": [
    "function identidad(x) ##identity function in real numbers\n",
    "    x\n",
    "end"
   ]
  },
  {
   "cell_type": "code",
   "execution_count": 35,
   "id": "practical-amsterdam",
   "metadata": {},
   "outputs": [
    {
     "data": {
      "text/plain": [
       "3242"
      ]
     },
     "execution_count": 35,
     "metadata": {},
     "output_type": "execute_result"
    }
   ],
   "source": [
    "identidad(3242)"
   ]
  },
  {
   "cell_type": "code",
   "execution_count": 36,
   "id": "average-forward",
   "metadata": {},
   "outputs": [
    {
     "data": {
      "text/plain": [
       "saludar (generic function with 1 method)"
      ]
     },
     "execution_count": 36,
     "metadata": {},
     "output_type": "execute_result"
    }
   ],
   "source": [
    "function saludar(nombre) #function that makes salutation\n",
    "    println(\"Hola, $nombre. Te damos la bienvenida\")\n",
    "end\n",
    "    "
   ]
  },
  {
   "cell_type": "code",
   "execution_count": 39,
   "id": "removed-bench",
   "metadata": {},
   "outputs": [
    {
     "name": "stdout",
     "output_type": "stream",
     "text": [
      "Hola, Marimar. Te damos la bienvenida\n"
     ]
    }
   ],
   "source": [
    "saludar(\"Marimar\")"
   ]
  },
  {
   "cell_type": "code",
   "execution_count": 81,
   "id": "incorporated-truth",
   "metadata": {},
   "outputs": [
    {
     "data": {
      "text/plain": [
       "cuadrática (generic function with 1 method)"
      ]
     },
     "execution_count": 81,
     "metadata": {},
     "output_type": "execute_result"
    }
   ],
   "source": [
    "function cuadrática(x)\n",
    "    x^2\n",
    "end"
   ]
  },
  {
   "cell_type": "code",
   "execution_count": 82,
   "id": "electronic-buying",
   "metadata": {},
   "outputs": [
    {
     "data": {
      "text/plain": [
       "1764"
      ]
     },
     "execution_count": 82,
     "metadata": {},
     "output_type": "execute_result"
    }
   ],
   "source": [
    "cuadratica(42)"
   ]
  },
  {
   "cell_type": "code",
   "execution_count": 83,
   "id": "clinical-invalid",
   "metadata": {},
   "outputs": [
    {
     "data": {
      "text/plain": [
       "exponencial (generic function with 1 method)"
      ]
     },
     "execution_count": 83,
     "metadata": {},
     "output_type": "execute_result"
    }
   ],
   "source": [
    "function exponencial(x) #note that \"exp\" nor \"e\" do not work, use, instead, \"\\ euler + tab\"\n",
    "    ℯ ^x \n",
    "    \n",
    "end"
   ]
  },
  {
   "cell_type": "code",
   "execution_count": 61,
   "id": "english-banking",
   "metadata": {},
   "outputs": [
    {
     "data": {
      "text/plain": [
       "2.718281828459045"
      ]
     },
     "execution_count": 61,
     "metadata": {},
     "output_type": "execute_result"
    }
   ],
   "source": [
    "exponencial(1)"
   ]
  },
  {
   "cell_type": "code",
   "execution_count": 64,
   "id": "british-conviction",
   "metadata": {},
   "outputs": [
    {
     "data": {
      "text/plain": [
       "#9 (generic function with 1 method)"
      ]
     },
     "execution_count": 64,
     "metadata": {},
     "output_type": "execute_result"
    }
   ],
   "source": [
    "salutación = nombre -> println(\"Hola, $nombre. Mucho gusto\")"
   ]
  },
  {
   "cell_type": "code",
   "execution_count": 67,
   "id": "broken-stockholm",
   "metadata": {},
   "outputs": [
    {
     "name": "stdout",
     "output_type": "stream",
     "text": [
      "Hola, Ana. Mucho gusto\n"
     ]
    }
   ],
   "source": [
    "salutación(\"Ana\") #like an inderect function"
   ]
  },
  {
   "cell_type": "code",
   "execution_count": 70,
   "id": "overhead-armor",
   "metadata": {},
   "outputs": [
    {
     "name": "stdout",
     "output_type": "stream",
     "text": [
      "Hola, 33. Mucho gusto\n"
     ]
    }
   ],
   "source": [
    "salutación(33)"
   ]
  },
  {
   "cell_type": "code",
   "execution_count": 78,
   "id": "moral-missouri",
   "metadata": {},
   "outputs": [
    {
     "data": {
      "text/plain": [
       "4×4 Array{Float64,2}:\n",
       " 0.165048  0.0890567  0.810798  0.920392\n",
       " 0.436785  0.903751   0.248637  0.269049\n",
       " 0.881187  0.921521   0.424287  0.923812\n",
       " 0.233807  0.12516    0.221376  0.262271"
      ]
     },
     "execution_count": 78,
     "metadata": {},
     "output_type": "execute_result"
    }
   ],
   "source": [
    "A = rand(4,4) #generate random matrix\n",
    " "
   ]
  },
  {
   "cell_type": "code",
   "execution_count": 88,
   "id": "aquatic-breakfast",
   "metadata": {},
   "outputs": [
    {
     "data": {
      "text/plain": [
       "4×4 Array{Float64,2}:\n",
       " 0.165048  0.0890567  0.810798  0.920392\n",
       " 0.436785  0.903751   0.248637  0.269049\n",
       " 0.881187  0.921521   0.424287  0.923812\n",
       " 0.233807  0.12516    0.221376  0.262271"
      ]
     },
     "execution_count": 88,
     "metadata": {},
     "output_type": "execute_result"
    }
   ],
   "source": [
    "identidad(A) #our functions still work with matrix"
   ]
  },
  {
   "cell_type": "code",
   "execution_count": 89,
   "id": "loaded-display",
   "metadata": {},
   "outputs": [
    {
     "data": {
      "text/plain": [
       "4×4 Array{Float64,2}:\n",
       " 0.995799  0.957548  0.703728  1.16629\n",
       " 0.748837  1.11846   0.743906  0.945425\n",
       " 1.13782   1.41792   1.32812   1.69322\n",
       " 0.349652  0.370765  0.372678  0.522165"
      ]
     },
     "execution_count": 89,
     "metadata": {},
     "output_type": "execute_result"
    }
   ],
   "source": [
    "cuadrática(A)"
   ]
  },
  {
   "cell_type": "code",
   "execution_count": 101,
   "id": "behavioral-nickname",
   "metadata": {},
   "outputs": [
    {
     "data": {
      "text/plain": [
       "5-element Array{Float64,1}:\n",
       " 0.8034154629497448\n",
       " 0.8485686295856221\n",
       " 0.2353464422393945\n",
       " 0.7384019852642056\n",
       " 0.43260499828807"
      ]
     },
     "execution_count": 101,
     "metadata": {},
     "output_type": "execute_result"
    }
   ],
   "source": [
    "v = rand(5)"
   ]
  },
  {
   "cell_type": "code",
   "execution_count": 104,
   "id": "female-tsunami",
   "metadata": {},
   "outputs": [
    {
     "ename": "LoadError",
     "evalue": "\u001b[91mMethodError: no method matching ^(::Array{Float64,1}, ::Int64)\u001b[39m\n\u001b[91m\u001b[0mClosest candidates are:\u001b[39m\n\u001b[91m\u001b[0m  ^(\u001b[91m::Missing\u001b[39m, ::Integer) at missing.jl:155\u001b[39m\n\u001b[91m\u001b[0m  ^(\u001b[91m::Missing\u001b[39m, ::Number) at missing.jl:115\u001b[39m\n\u001b[91m\u001b[0m  ^(\u001b[91m::BigInt\u001b[39m, ::Integer) at gmp.jl:602\u001b[39m\n\u001b[91m\u001b[0m  ...\u001b[39m",
     "output_type": "error",
     "traceback": [
      "\u001b[91mMethodError: no method matching ^(::Array{Float64,1}, ::Int64)\u001b[39m\n\u001b[91m\u001b[0mClosest candidates are:\u001b[39m\n\u001b[91m\u001b[0m  ^(\u001b[91m::Missing\u001b[39m, ::Integer) at missing.jl:155\u001b[39m\n\u001b[91m\u001b[0m  ^(\u001b[91m::Missing\u001b[39m, ::Number) at missing.jl:115\u001b[39m\n\u001b[91m\u001b[0m  ^(\u001b[91m::BigInt\u001b[39m, ::Integer) at gmp.jl:602\u001b[39m\n\u001b[91m\u001b[0m  ...\u001b[39m",
      "",
      "Stacktrace:",
      " [1] macro expansion at .\\none:0 [inlined]",
      " [2] literal_pow at .\\none:0 [inlined]",
      " [3] cuadrática(::Array{Float64,1}) at .\\In[81]:2",
      " [4] top-level scope at In[104]:1",
      " [5] include_string(::Function, ::Module, ::String, ::String) at .\\loading.jl:1091"
     ]
    }
   ],
   "source": [
    "cuadrática(v) #Julia does not accept a cuadratic vector"
   ]
  },
  {
   "cell_type": "markdown",
   "id": "challenging-explosion",
   "metadata": {},
   "source": [
    "going to sort and use of \"!\""
   ]
  },
  {
   "cell_type": "code",
   "execution_count": 106,
   "id": "banned-tennis",
   "metadata": {},
   "outputs": [
    {
     "data": {
      "text/plain": [
       "4-element Array{Float64,1}:\n",
       " 0.3648313065114197\n",
       " 0.36933284561030866\n",
       " 0.8803635837980228\n",
       " 0.504689929936674"
      ]
     },
     "execution_count": 106,
     "metadata": {},
     "output_type": "execute_result"
    }
   ],
   "source": [
    "m=rand(4)"
   ]
  },
  {
   "cell_type": "code",
   "execution_count": 108,
   "id": "exterior-there",
   "metadata": {},
   "outputs": [
    {
     "data": {
      "text/plain": [
       "4-element Array{Float64,1}:\n",
       " 0.3648313065114197\n",
       " 0.36933284561030866\n",
       " 0.504689929936674\n",
       " 0.8803635837980228"
      ]
     },
     "execution_count": 108,
     "metadata": {},
     "output_type": "execute_result"
    }
   ],
   "source": [
    "sort(m) #use sort"
   ]
  },
  {
   "cell_type": "code",
   "execution_count": 111,
   "id": "potential-footwear",
   "metadata": {},
   "outputs": [
    {
     "data": {
      "text/plain": [
       "4-element Array{Float64,1}:\n",
       " 0.3648313065114197\n",
       " 0.36933284561030866\n",
       " 0.504689929936674\n",
       " 0.8803635837980228"
      ]
     },
     "execution_count": 111,
     "metadata": {},
     "output_type": "execute_result"
    }
   ],
   "source": [
    "sort!(m)"
   ]
  },
  {
   "cell_type": "code",
   "execution_count": 121,
   "id": "sacred-columbus",
   "metadata": {},
   "outputs": [
    {
     "data": {
      "text/plain": [
       "3×3 Array{Int64,2}:\n",
       "  46   47   48\n",
       "  91   92   93\n",
       " 136  137  138"
      ]
     },
     "execution_count": 121,
     "metadata": {},
     "output_type": "execute_result"
    }
   ],
   "source": [
    "G= [i+45j for j ∈ 1:3, i ∈ 1:3]"
   ]
  },
  {
   "cell_type": "code",
   "execution_count": 122,
   "id": "opening-maine",
   "metadata": {},
   "outputs": [
    {
     "data": {
      "text/plain": [
       "3×3 Array{Int64,2}:\n",
       " 12921  13062  13203\n",
       " 25206  25482  25758\n",
       " 37491  37902  38313"
      ]
     },
     "execution_count": 122,
     "metadata": {},
     "output_type": "execute_result"
    }
   ],
   "source": [
    "cuadrática(G)"
   ]
  },
  {
   "cell_type": "code",
   "execution_count": 125,
   "id": "familiar-stack",
   "metadata": {},
   "outputs": [
    {
     "data": {
      "text/plain": [
       "3×3 Array{Int64,2}:\n",
       "  2116   2209   2304\n",
       "  8281   8464   8649\n",
       " 18496  18769  19044"
      ]
     },
     "execution_count": 125,
     "metadata": {},
     "output_type": "execute_result"
    }
   ],
   "source": [
    "cuadrática.(G) #returns cuadratic per input"
   ]
  },
  {
   "cell_type": "code",
   "execution_count": 128,
   "id": "solar-dairy",
   "metadata": {},
   "outputs": [
    {
     "data": {
      "text/plain": [
       "92"
      ]
     },
     "execution_count": 128,
     "metadata": {},
     "output_type": "execute_result"
    }
   ],
   "source": [
    "G[2,2] "
   ]
  },
  {
   "cell_type": "code",
   "execution_count": 129,
   "id": "located-reference",
   "metadata": {},
   "outputs": [
    {
     "data": {
      "text/plain": [
       "8464"
      ]
     },
     "execution_count": 129,
     "metadata": {},
     "output_type": "execute_result"
    }
   ],
   "source": [
    "G[2,2]^2"
   ]
  },
  {
   "cell_type": "code",
   "execution_count": null,
   "id": "expressed-fellow",
   "metadata": {},
   "outputs": [],
   "source": []
  }
 ],
 "metadata": {
  "kernelspec": {
   "display_name": "Julia 1.5.4",
   "language": "julia",
   "name": "julia-1.5"
  },
  "language_info": {
   "file_extension": ".jl",
   "mimetype": "application/julia",
   "name": "julia",
   "version": "1.5.4"
  }
 },
 "nbformat": 4,
 "nbformat_minor": 5
}
