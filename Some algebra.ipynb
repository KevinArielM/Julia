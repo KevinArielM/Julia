{
 "cells": [
  {
   "cell_type": "code",
   "execution_count": 3,
   "id": "worthy-client",
   "metadata": {},
   "outputs": [],
   "source": [
    "using Distributions, CSV, DataFrames, Statistics, Plots, LinearAlgebra"
   ]
  },
  {
   "cell_type": "code",
   "execution_count": 22,
   "id": "coordinate-produce",
   "metadata": {},
   "outputs": [
    {
     "data": {
      "text/plain": [
       "5×5 Array{Int64,2}:\n",
       " 2  6  7  5  3\n",
       " 4  4  6  3  7\n",
       " 2  3  8  9  4\n",
       " 1  4  1  8  3\n",
       " 9  5  9  9  3"
      ]
     },
     "execution_count": 22,
     "metadata": {},
     "output_type": "execute_result"
    }
   ],
   "source": [
    "A = rand(1:10,5,5) #randmom matrix. LinearAlgebra is very importan for doing algebra"
   ]
  },
  {
   "cell_type": "code",
   "execution_count": 23,
   "id": "broad-tooth",
   "metadata": {},
   "outputs": [
    {
     "data": {
      "text/plain": [
       "5×10 Array{Int64,2}:\n",
       " 2  6  7  5  3  2  6  7  5  3\n",
       " 4  4  6  3  7  4  4  6  3  7\n",
       " 2  3  8  9  4  2  3  8  9  4\n",
       " 1  4  1  8  3  1  4  1  8  3\n",
       " 9  5  9  9  3  9  5  9  9  3"
      ]
     },
     "execution_count": 23,
     "metadata": {},
     "output_type": "execute_result"
    }
   ],
   "source": [
    "B = A\n",
    "C = copy(A)\n",
    "[B C] #join them"
   ]
  },
  {
   "cell_type": "code",
   "execution_count": 24,
   "id": "nonprofit-laptop",
   "metadata": {},
   "outputs": [
    {
     "data": {
      "text/plain": [
       "5×10 Array{Int64,2}:\n",
       " 14  6  7  5  3  2  6  7  5  3\n",
       "  4  4  6  3  7  4  4  6  3  7\n",
       "  2  3  8  9  4  2  3  8  9  4\n",
       "  1  4  1  8  3  1  4  1  8  3\n",
       "  9  5  9  9  3  9  5  9  9  3"
      ]
     },
     "execution_count": 24,
     "metadata": {},
     "output_type": "execute_result"
    }
   ],
   "source": [
    "A[1]=14 #change the input 11\n",
    "[B C]"
   ]
  },
  {
   "cell_type": "code",
   "execution_count": 25,
   "id": "aggressive-reunion",
   "metadata": {},
   "outputs": [
    {
     "data": {
      "text/plain": [
       "(x = [0.0 0.0 0.0 0.0; 0.0 0.0 0.0 0.0; 0.0 0.0 0.0 0.0; 0.0 0.0 0.0 0.0], y = [1.0 1.0 1.0 1.0; 1.0 1.0 1.0 1.0; 1.0 1.0 1.0 1.0; 1.0 1.0 1.0 1.0])"
      ]
     },
     "execution_count": 25,
     "metadata": {},
     "output_type": "execute_result"
    }
   ],
   "source": [
    "(x = zeros(4,4), y= ones(4,4))"
   ]
  },
  {
   "cell_type": "code",
   "execution_count": 26,
   "id": "useful-lighting",
   "metadata": {},
   "outputs": [
    {
     "data": {
      "text/plain": [
       "3×3 Array{Float64,2}:\n",
       " 1.0  1.0  1.0\n",
       " 1.0  1.0  1.0\n",
       " 1.0  1.0  1.0"
      ]
     },
     "execution_count": 26,
     "metadata": {},
     "output_type": "execute_result"
    }
   ],
   "source": [
    "ones(3,3)"
   ]
  },
  {
   "cell_type": "code",
   "execution_count": 27,
   "id": "detected-daily",
   "metadata": {},
   "outputs": [
    {
     "data": {
      "text/plain": [
       "5×5 Array{Int64,2}:\n",
       " 28  10   9   6  12\n",
       " 10   8   9   7  12\n",
       "  9   9  16  10  13\n",
       "  6   7  10  16  12\n",
       " 12  12  13  12   6"
      ]
     },
     "execution_count": 27,
     "metadata": {},
     "output_type": "execute_result"
    }
   ],
   "source": [
    "#transposition\n",
    "Asyn= A+A'"
   ]
  },
  {
   "cell_type": "code",
   "execution_count": 28,
   "id": "fuzzy-occasion",
   "metadata": {},
   "outputs": [
    {
     "data": {
      "text/plain": [
       "5×5 Array{Float64,2}:\n",
       " 0.638208  0.250687   0.712916  0.452565  0.956604\n",
       " 0.751503  0.224755   0.926601  0.33694   0.725534\n",
       " 0.903282  0.257607   0.478848  0.500918  0.376941\n",
       " 0.445782  0.491072   0.782773  0.573146  0.681623\n",
       " 0.960237  0.0117546  0.373011  0.752999  0.88889"
      ]
     },
     "execution_count": 28,
     "metadata": {},
     "output_type": "execute_result"
    }
   ],
   "source": [
    "B = rand(5,5)"
   ]
  },
  {
   "cell_type": "code",
   "execution_count": 29,
   "id": "different-uruguay",
   "metadata": {},
   "outputs": [
    {
     "data": {
      "text/plain": [
       "2×5 Array{Float64,2}:\n",
       " 3.92528  2.77256  4.34732  4.43204  2.5795\n",
       " 3.92528  2.77256  4.34732  4.43204  2.5795"
      ]
     },
     "execution_count": 29,
     "metadata": {},
     "output_type": "execute_result"
    }
   ],
   "source": [
    "[B[:,1] B[:,1]]\\A"
   ]
  },
  {
   "cell_type": "markdown",
   "id": "sufficient-identification",
   "metadata": {},
   "source": [
    "doing factorizations"
   ]
  },
  {
   "cell_type": "code",
   "execution_count": 30,
   "id": "racial-characterization",
   "metadata": {},
   "outputs": [
    {
     "data": {
      "text/plain": [
       "3×3 Array{Float64,2}:\n",
       " 0.439422  0.564413  0.432846\n",
       " 0.478342  0.209178  0.741537\n",
       " 0.988603  0.866883  0.714691"
      ]
     },
     "execution_count": 30,
     "metadata": {},
     "output_type": "execute_result"
    }
   ],
   "source": [
    "A = rand(3,3)"
   ]
  },
  {
   "cell_type": "code",
   "execution_count": 31,
   "id": "portuguese-stopping",
   "metadata": {},
   "outputs": [
    {
     "data": {
      "text/plain": [
       "LU{Float64,Array{Float64,2}}\n",
       "L factor:\n",
       "3×3 Array{Float64,2}:\n",
       " 1.0        0.0       0.0\n",
       " 0.483856   1.0       0.0\n",
       " 0.444488  -0.851736  1.0\n",
       "U factor:\n",
       "3×3 Array{Float64,2}:\n",
       " 0.988603   0.866883  0.714691\n",
       " 0.0       -0.210269  0.395729\n",
       " 0.0        0.0       0.452231"
      ]
     },
     "execution_count": 31,
     "metadata": {},
     "output_type": "execute_result"
    }
   ],
   "source": [
    "l,u,p = lu(A)"
   ]
  },
  {
   "cell_type": "code",
   "execution_count": 32,
   "id": "heavy-binary",
   "metadata": {},
   "outputs": [
    {
     "data": {
      "text/plain": [
       "0.09400652049944981"
      ]
     },
     "execution_count": 32,
     "metadata": {},
     "output_type": "execute_result"
    }
   ],
   "source": [
    "det(A)"
   ]
  },
  {
   "cell_type": "code",
   "execution_count": 33,
   "id": "british-solomon",
   "metadata": {},
   "outputs": [
    {
     "data": {
      "text/plain": [
       "4×4 Array{Float64,2}:\n",
       " 0.177809  0.269056  0.596199   0.531306\n",
       " 0.032888  0.828136  0.752116   0.128021\n",
       " 0.491478  0.734568  0.0712383  0.255811\n",
       " 0.903346  0.745806  0.937606   0.395298"
      ]
     },
     "execution_count": 33,
     "metadata": {},
     "output_type": "execute_result"
    }
   ],
   "source": [
    "Matrix = rand(4,4)"
   ]
  },
  {
   "cell_type": "code",
   "execution_count": 34,
   "id": "bizarre-tsunami",
   "metadata": {},
   "outputs": [
    {
     "data": {
      "text/plain": [
       "0.23022732628619683"
      ]
     },
     "execution_count": 34,
     "metadata": {},
     "output_type": "execute_result"
    }
   ],
   "source": [
    "det(Matrix)"
   ]
  },
  {
   "cell_type": "code",
   "execution_count": 8,
   "id": "passive-biodiversity",
   "metadata": {},
   "outputs": [
    {
     "data": {
      "text/plain": [
       "3×3 Array{Float64,2}:\n",
       " 2.2  3.4  6.5\n",
       " 4.6  5.6  8.9\n",
       " 1.2  4.1  8.9"
      ]
     },
     "execution_count": 8,
     "metadata": {},
     "output_type": "execute_result"
    }
   ],
   "source": [
    "Dmatrix=[2.2 3.4 6.5; 4.6 5.6 8.9; 1.2 4.1 8.9] #designing matrix"
   ]
  },
  {
   "cell_type": "code",
   "execution_count": 9,
   "id": "electronic-lucas",
   "metadata": {},
   "outputs": [
    {
     "data": {
      "text/plain": [
       "5.395999999999997"
      ]
     },
     "execution_count": 9,
     "metadata": {},
     "output_type": "execute_result"
    }
   ],
   "source": [
    "det(Dmatrix)"
   ]
  },
  {
   "cell_type": "code",
   "execution_count": 10,
   "id": "quarterly-forestry",
   "metadata": {},
   "outputs": [
    {
     "data": {
      "text/plain": [
       "LU{Float64,Array{Float64,2}}\n",
       "L factor:\n",
       "3×3 Array{Float64,2}:\n",
       " 1.0       0.0       0.0\n",
       " 0.26087   1.0       0.0\n",
       " 0.478261  0.273476  1.0\n",
       "U factor:\n",
       "3×3 Array{Float64,2}:\n",
       " 4.6  5.6      8.9\n",
       " 0.0  2.63913  6.57826\n",
       " 0.0  0.0      0.444481"
      ]
     },
     "execution_count": 10,
     "metadata": {},
     "output_type": "execute_result"
    }
   ],
   "source": [
    "factorize(Dmatrix)"
   ]
  },
  {
   "cell_type": "code",
   "execution_count": 12,
   "id": "union-springfield",
   "metadata": {},
   "outputs": [
    {
     "data": {
      "text/plain": [
       "3×3 Diagonal{Float64,Array{Float64,1}}:\n",
       " 2.2   ⋅    ⋅ \n",
       "  ⋅   5.6   ⋅ \n",
       "  ⋅    ⋅   8.9"
      ]
     },
     "execution_count": 12,
     "metadata": {},
     "output_type": "execute_result"
    }
   ],
   "source": [
    "Diagonal(Dmatrix)"
   ]
  },
  {
   "cell_type": "code",
   "execution_count": 14,
   "id": "capable-symbol",
   "metadata": {},
   "outputs": [],
   "source": [
    " L = [1.0 0.0 0.0 ; 0.26087 1.0 0.0; 0.478261  0.273476  1.0]\n",
    "U = [4.6  5.6 8.9; 0.0 2.63913 6.57826; 0.0 0.0 0.444481];"
   ]
  },
  {
   "cell_type": "code",
   "execution_count": 15,
   "id": "operating-workshop",
   "metadata": {},
   "outputs": [
    {
     "data": {
      "text/plain": [
       "3×3 Array{Float64,2}:\n",
       " 4.6  5.6  8.9\n",
       " 1.2  4.1  8.9\n",
       " 2.2  3.4  6.5"
      ]
     },
     "execution_count": 15,
     "metadata": {},
     "output_type": "execute_result"
    }
   ],
   "source": [
    "L*U"
   ]
  },
  {
   "cell_type": "code",
   "execution_count": 16,
   "id": "specified-disease",
   "metadata": {},
   "outputs": [
    {
     "data": {
      "text/plain": [
       "3-element Array{Float64,1}:\n",
       "  0.32832985379269547\n",
       "  1.0743511274351847\n",
       " 15.297319018772122"
      ]
     },
     "execution_count": 16,
     "metadata": {},
     "output_type": "execute_result"
    }
   ],
   "source": [
    "eigvals(Dmatrix)"
   ]
  },
  {
   "cell_type": "code",
   "execution_count": 18,
   "id": "right-spotlight",
   "metadata": {},
   "outputs": [
    {
     "data": {
      "text/plain": [
       "3×3 Array{Float64,2}:\n",
       " -0.267217  -0.0374439  -0.452222\n",
       "  0.883338  -0.882799   -0.709974\n",
       " -0.385109   0.468256   -0.539845"
      ]
     },
     "execution_count": 18,
     "metadata": {},
     "output_type": "execute_result"
    }
   ],
   "source": [
    "eigvecs(Dmatrix)"
   ]
  },
  {
   "cell_type": "code",
   "execution_count": 19,
   "id": "exempt-gravity",
   "metadata": {},
   "outputs": [
    {
     "data": {
      "text/plain": [
       "16.7"
      ]
     },
     "execution_count": 19,
     "metadata": {},
     "output_type": "execute_result"
    }
   ],
   "source": [
    "tr(Dmatrix)"
   ]
  },
  {
   "cell_type": "code",
   "execution_count": 20,
   "id": "mexican-yemen",
   "metadata": {},
   "outputs": [
    {
     "data": {
      "text/plain": [
       "3×3 Array{Float64,2}:\n",
       "  2.47405  -0.669014  -1.13788\n",
       " -5.60786   2.1831     1.91253\n",
       "  2.24981  -0.915493  -0.615271"
      ]
     },
     "execution_count": 20,
     "metadata": {},
     "output_type": "execute_result"
    }
   ],
   "source": [
    "inv(Dmatrix)"
   ]
  },
  {
   "cell_type": "code",
   "execution_count": 21,
   "id": "hungry-affiliate",
   "metadata": {},
   "outputs": [
    {
     "data": {
      "text/plain": [
       "5.395999999999997"
      ]
     },
     "execution_count": 21,
     "metadata": {},
     "output_type": "execute_result"
    }
   ],
   "source": [
    "det(Dmatrix)"
   ]
  },
  {
   "cell_type": "code",
   "execution_count": 36,
   "id": "fifty-entity",
   "metadata": {},
   "outputs": [
    {
     "ename": "LoadError",
     "evalue": "\u001b[91mMethodError: no method matching Cholesky(::Array{Float64,2})\u001b[39m\n\u001b[91m\u001b[0mClosest candidates are:\u001b[39m\n\u001b[91m\u001b[0m  Cholesky(::AbstractArray{T,2}, \u001b[91m::Symbol\u001b[39m, \u001b[91m::Integer\u001b[39m) where T at C:\\buildbot\\worker\\package_win64\\build\\usr\\share\\julia\\stdlib\\v1.5\\LinearAlgebra\\src\\cholesky.jl:82\u001b[39m\n\u001b[91m\u001b[0m  Cholesky(::AbstractArray{T,2}, \u001b[91m::AbstractChar\u001b[39m, \u001b[91m::Integer\u001b[39m) where T at C:\\buildbot\\worker\\package_win64\\build\\usr\\share\\julia\\stdlib\\v1.5\\LinearAlgebra\\src\\cholesky.jl:84\u001b[39m",
     "output_type": "error",
     "traceback": [
      "\u001b[91mMethodError: no method matching Cholesky(::Array{Float64,2})\u001b[39m\n\u001b[91m\u001b[0mClosest candidates are:\u001b[39m\n\u001b[91m\u001b[0m  Cholesky(::AbstractArray{T,2}, \u001b[91m::Symbol\u001b[39m, \u001b[91m::Integer\u001b[39m) where T at C:\\buildbot\\worker\\package_win64\\build\\usr\\share\\julia\\stdlib\\v1.5\\LinearAlgebra\\src\\cholesky.jl:82\u001b[39m\n\u001b[91m\u001b[0m  Cholesky(::AbstractArray{T,2}, \u001b[91m::AbstractChar\u001b[39m, \u001b[91m::Integer\u001b[39m) where T at C:\\buildbot\\worker\\package_win64\\build\\usr\\share\\julia\\stdlib\\v1.5\\LinearAlgebra\\src\\cholesky.jl:84\u001b[39m",
      "",
      "Stacktrace:",
      " [1] top-level scope at In[36]:1",
      " [2] include_string(::Function, ::Module, ::String, ::String) at .\\loading.jl:1091"
     ]
    }
   ],
   "source": [
    "Cholesky(Dmatrix)"
   ]
  },
  {
   "cell_type": "code",
   "execution_count": 37,
   "id": "prime-hebrew",
   "metadata": {},
   "outputs": [
    {
     "ename": "LoadError",
     "evalue": "\u001b[91mcould not open file C:\\Users\\kevin\\Dropbox\\Julia\\WorkingIJulia\\Stats3.jl\u001b[39m",
     "output_type": "error",
     "traceback": [
      "\u001b[91mcould not open file C:\\Users\\kevin\\Dropbox\\Julia\\WorkingIJulia\\Stats3.jl\u001b[39m",
      "",
      "Stacktrace:",
      " [1] include(::String) at .\\client.jl:457",
      " [2] top-level scope at In[37]:1",
      " [3] include_string(::Function, ::Module, ::String, ::String) at .\\loading.jl:1091"
     ]
    }
   ],
   "source": [
    "include(\"Stats3.jl\")"
   ]
  },
  {
   "cell_type": "code",
   "execution_count": null,
   "id": "promising-child",
   "metadata": {},
   "outputs": [],
   "source": []
  }
 ],
 "metadata": {
  "kernelspec": {
   "display_name": "Julia 1.5.4",
   "language": "julia",
   "name": "julia-1.5"
  },
  "language_info": {
   "file_extension": ".jl",
   "mimetype": "application/julia",
   "name": "julia",
   "version": "1.5.4"
  }
 },
 "nbformat": 4,
 "nbformat_minor": 5
}
