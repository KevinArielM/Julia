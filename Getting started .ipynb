{
 "cells": [
  {
   "cell_type": "code",
   "execution_count": 2,
   "id": "equivalent-failure",
   "metadata": {},
   "outputs": [
    {
     "data": {
      "text/plain": [
       "77"
      ]
     },
     "execution_count": 2,
     "metadata": {},
     "output_type": "execute_result"
    }
   ],
   "source": [
    "33+44"
   ]
  },
  {
   "cell_type": "code",
   "execution_count": 2,
   "id": "classical-montreal",
   "metadata": {},
   "outputs": [
    {
     "data": {
      "text/plain": [
       "439"
      ]
     },
     "execution_count": 2,
     "metadata": {},
     "output_type": "execute_result"
    }
   ],
   "source": [
    "444-5"
   ]
  },
  {
   "cell_type": "code",
   "execution_count": 3,
   "id": "otherwise-stake",
   "metadata": {},
   "outputs": [
    {
     "data": {
      "text/plain": [
       "246886420"
      ]
     },
     "execution_count": 3,
     "metadata": {},
     "output_type": "execute_result"
    }
   ],
   "source": [
    "4444*55555"
   ]
  },
  {
   "cell_type": "code",
   "execution_count": 4,
   "id": "athletic-enhancement",
   "metadata": {},
   "outputs": [
    {
     "data": {
      "text/plain": [
       "3"
      ]
     },
     "execution_count": 4,
     "metadata": {},
     "output_type": "execute_result"
    }
   ],
   "source": [
    "w=3"
   ]
  },
  {
   "cell_type": "code",
   "execution_count": 6,
   "id": "competitive-might",
   "metadata": {},
   "outputs": [
    {
     "data": {
      "text/plain": [
       "33"
      ]
     },
     "execution_count": 6,
     "metadata": {},
     "output_type": "execute_result"
    }
   ],
   "source": [
    "y=33\n"
   ]
  },
  {
   "cell_type": "code",
   "execution_count": 6,
   "id": "historic-electron",
   "metadata": {},
   "outputs": [
    {
     "data": {
      "text/plain": [
       "36"
      ]
     },
     "execution_count": 6,
     "metadata": {},
     "output_type": "execute_result"
    }
   ],
   "source": [
    "w+y"
   ]
  },
  {
   "cell_type": "code",
   "execution_count": 7,
   "id": "official-partnership",
   "metadata": {},
   "outputs": [
    {
     "name": "stdout",
     "output_type": "stream",
     "text": [
      "a"
     ]
    }
   ],
   "source": [
    "print(\"a\")"
   ]
  },
  {
   "cell_type": "code",
   "execution_count": 8,
   "id": "brilliant-calculator",
   "metadata": {},
   "outputs": [
    {
     "name": "stdout",
     "output_type": "stream",
     "text": [
      "3"
     ]
    }
   ],
   "source": [
    "print(w)"
   ]
  },
  {
   "cell_type": "code",
   "execution_count": 1,
   "id": "organized-bottom",
   "metadata": {},
   "outputs": [
    {
     "name": "stdout",
     "output_type": "stream",
     "text": [
      "Hola, mundo"
     ]
    }
   ],
   "source": [
    "print(\"Hola, mundo\")"
   ]
  },
  {
   "cell_type": "code",
   "execution_count": 5,
   "id": "killing-silence",
   "metadata": {},
   "outputs": [
    {
     "ename": "LoadError",
     "evalue": "\u001b[91mUndefVarError: y not defined\u001b[39m",
     "output_type": "error",
     "traceback": [
      "\u001b[91mUndefVarError: y not defined\u001b[39m",
      "",
      "Stacktrace:",
      " [1] top-level scope at In[5]:1",
      " [2] include_string(::Function, ::Module, ::String, ::String) at .\\loading.jl:1091"
     ]
    }
   ],
   "source": [
    "print(w,\" \",y)"
   ]
  },
  {
   "cell_type": "code",
   "execution_count": 13,
   "id": "decreased-shade",
   "metadata": {},
   "outputs": [
    {
     "data": {
      "text/plain": [
       "(3, 33)"
      ]
     },
     "execution_count": 13,
     "metadata": {},
     "output_type": "execute_result"
    }
   ],
   "source": [
    "(w,y)"
   ]
  },
  {
   "cell_type": "code",
   "execution_count": 7,
   "id": "american-publication",
   "metadata": {},
   "outputs": [
    {
     "name": "stdout",
     "output_type": "stream",
     "text": [
      "search: \u001b[0m\u001b[1mp\u001b[22m\u001b[0m\u001b[1mr\u001b[22m\u001b[0m\u001b[1mi\u001b[22m\u001b[0m\u001b[1mn\u001b[22m\u001b[0m\u001b[1mt\u001b[22m \u001b[0m\u001b[1mp\u001b[22m\u001b[0m\u001b[1mr\u001b[22m\u001b[0m\u001b[1mi\u001b[22m\u001b[0m\u001b[1mn\u001b[22m\u001b[0m\u001b[1mt\u001b[22mln \u001b[0m\u001b[1mp\u001b[22m\u001b[0m\u001b[1mr\u001b[22m\u001b[0m\u001b[1mi\u001b[22m\u001b[0m\u001b[1mn\u001b[22m\u001b[0m\u001b[1mt\u001b[22mstyled s\u001b[0m\u001b[1mp\u001b[22m\u001b[0m\u001b[1mr\u001b[22m\u001b[0m\u001b[1mi\u001b[22m\u001b[0m\u001b[1mn\u001b[22m\u001b[0m\u001b[1mt\u001b[22m is\u001b[0m\u001b[1mp\u001b[22m\u001b[0m\u001b[1mr\u001b[22m\u001b[0m\u001b[1mi\u001b[22m\u001b[0m\u001b[1mn\u001b[22m\u001b[0m\u001b[1mt\u001b[22m \u001b[0m\u001b[1mp\u001b[22m\u001b[0m\u001b[1mr\u001b[22mev\u001b[0m\u001b[1mi\u001b[22m\u001b[0m\u001b[1mn\u001b[22md \u001b[0m\u001b[1mp\u001b[22ma\u001b[0m\u001b[1mr\u001b[22ment\u001b[0m\u001b[1mi\u001b[22m\u001b[0m\u001b[1mn\u001b[22mdices \u001b[0m\u001b[1mp\u001b[22m\u001b[0m\u001b[1mr\u001b[22mec\u001b[0m\u001b[1mi\u001b[22msio\u001b[0m\u001b[1mn\u001b[22m\n",
      "\n"
     ]
    },
    {
     "data": {
      "text/latex": [
       "\\begin{verbatim}\n",
       "print([io::IO], xs...)\n",
       "\\end{verbatim}\n",
       "Write to \\texttt{io} (or to the default output stream \\href{@ref}{\\texttt{stdout}} if \\texttt{io} is not given) a canonical (un-decorated) text representation. The representation used by \\texttt{print} includes minimal formatting and tries to avoid Julia-specific details.\n",
       "\n",
       "\\texttt{print} falls back to calling \\texttt{show}, so most types should just define \\texttt{show}. Define \\texttt{print} if your type has a separate \"plain\" representation. For example, \\texttt{show} displays strings with quotes, and \\texttt{print} displays strings without quotes.\n",
       "\n",
       "\\href{@ref}{\\texttt{string}} returns the output of \\texttt{print} as a string.\n",
       "\n",
       "\\section{Examples}\n",
       "\\begin{verbatim}\n",
       "julia> print(\"Hello World!\")\n",
       "Hello World!\n",
       "julia> io = IOBuffer();\n",
       "\n",
       "julia> print(io, \"Hello\", ' ', :World!)\n",
       "\n",
       "julia> String(take!(io))\n",
       "\"Hello World!\"\n",
       "\\end{verbatim}\n"
      ],
      "text/markdown": [
       "```\n",
       "print([io::IO], xs...)\n",
       "```\n",
       "\n",
       "Write to `io` (or to the default output stream [`stdout`](@ref) if `io` is not given) a canonical (un-decorated) text representation. The representation used by `print` includes minimal formatting and tries to avoid Julia-specific details.\n",
       "\n",
       "`print` falls back to calling `show`, so most types should just define `show`. Define `print` if your type has a separate \"plain\" representation. For example, `show` displays strings with quotes, and `print` displays strings without quotes.\n",
       "\n",
       "[`string`](@ref) returns the output of `print` as a string.\n",
       "\n",
       "# Examples\n",
       "\n",
       "```jldoctest\n",
       "julia> print(\"Hello World!\")\n",
       "Hello World!\n",
       "julia> io = IOBuffer();\n",
       "\n",
       "julia> print(io, \"Hello\", ' ', :World!)\n",
       "\n",
       "julia> String(take!(io))\n",
       "\"Hello World!\"\n",
       "```\n"
      ],
      "text/plain": [
       "\u001b[36m  print([io::IO], xs...)\u001b[39m\n",
       "\n",
       "  Write to \u001b[36mio\u001b[39m (or to the default output stream \u001b[36mstdout\u001b[39m if \u001b[36mio\u001b[39m is not given) a\n",
       "  canonical (un-decorated) text representation. The representation used by\n",
       "  \u001b[36mprint\u001b[39m includes minimal formatting and tries to avoid Julia-specific details.\n",
       "\n",
       "  \u001b[36mprint\u001b[39m falls back to calling \u001b[36mshow\u001b[39m, so most types should just define \u001b[36mshow\u001b[39m.\n",
       "  Define \u001b[36mprint\u001b[39m if your type has a separate \"plain\" representation. For\n",
       "  example, \u001b[36mshow\u001b[39m displays strings with quotes, and \u001b[36mprint\u001b[39m displays strings\n",
       "  without quotes.\n",
       "\n",
       "  \u001b[36mstring\u001b[39m returns the output of \u001b[36mprint\u001b[39m as a string.\n",
       "\n",
       "\u001b[1m  Examples\u001b[22m\n",
       "\u001b[1m  ≡≡≡≡≡≡≡≡≡≡\u001b[22m\n",
       "\n",
       "\u001b[36m  julia> print(\"Hello World!\")\u001b[39m\n",
       "\u001b[36m  Hello World!\u001b[39m\n",
       "\u001b[36m  julia> io = IOBuffer();\u001b[39m\n",
       "\u001b[36m  \u001b[39m\n",
       "\u001b[36m  julia> print(io, \"Hello\", ' ', :World!)\u001b[39m\n",
       "\u001b[36m  \u001b[39m\n",
       "\u001b[36m  julia> String(take!(io))\u001b[39m\n",
       "\u001b[36m  \"Hello World!\"\u001b[39m"
      ]
     },
     "execution_count": 7,
     "metadata": {},
     "output_type": "execute_result"
    }
   ],
   "source": [
    "?print"
   ]
  },
  {
   "cell_type": "code",
   "execution_count": 20,
   "id": "restricted-article",
   "metadata": {},
   "outputs": [
    {
     "name": "stdout",
     "output_type": "stream",
     "text": [
      "3 99\n",
      "27 3\n"
     ]
    }
   ],
   "source": [
    "println(w,\" \",w*y)\n",
    "println(w*w*w,\" \", w)"
   ]
  },
  {
   "cell_type": "code",
   "execution_count": 6,
   "id": "wicked-particle",
   "metadata": {},
   "outputs": [
    {
     "data": {
      "text/plain": [
       "2//1"
      ]
     },
     "execution_count": 6,
     "metadata": {},
     "output_type": "execute_result"
    }
   ],
   "source": [
    "12//6"
   ]
  },
  {
   "cell_type": "code",
   "execution_count": 7,
   "id": "pretty-edmonton",
   "metadata": {},
   "outputs": [
    {
     "name": "stdout",
     "output_type": "stream",
     "text": [
      "search: \u001b[0m\u001b[1m/\u001b[22m\u001b[0m\u001b[1m/\u001b[22m\n",
      "\n"
     ]
    },
    {
     "data": {
      "text/latex": [
       "\\begin{verbatim}\n",
       "//(num, den)\n",
       "\\end{verbatim}\n",
       "Divide two integers or rational numbers, giving a \\href{@ref}{\\texttt{Rational}} result.\n",
       "\n",
       "\\section{Examples}\n",
       "\\begin{verbatim}\n",
       "julia> 3 // 5\n",
       "3//5\n",
       "\n",
       "julia> (3 // 5) // (2 // 1)\n",
       "3//10\n",
       "\\end{verbatim}\n"
      ],
      "text/markdown": [
       "```\n",
       "//(num, den)\n",
       "```\n",
       "\n",
       "Divide two integers or rational numbers, giving a [`Rational`](@ref) result.\n",
       "\n",
       "# Examples\n",
       "\n",
       "```jldoctest\n",
       "julia> 3 // 5\n",
       "3//5\n",
       "\n",
       "julia> (3 // 5) // (2 // 1)\n",
       "3//10\n",
       "```\n"
      ],
      "text/plain": [
       "\u001b[36m  //(num, den)\u001b[39m\n",
       "\n",
       "  Divide two integers or rational numbers, giving a \u001b[36mRational\u001b[39m result.\n",
       "\n",
       "\u001b[1m  Examples\u001b[22m\n",
       "\u001b[1m  ≡≡≡≡≡≡≡≡≡≡\u001b[22m\n",
       "\n",
       "\u001b[36m  julia> 3 // 5\u001b[39m\n",
       "\u001b[36m  3//5\u001b[39m\n",
       "\u001b[36m  \u001b[39m\n",
       "\u001b[36m  julia> (3 // 5) // (2 // 1)\u001b[39m\n",
       "\u001b[36m  3//10\u001b[39m"
      ]
     },
     "execution_count": 7,
     "metadata": {},
     "output_type": "execute_result"
    }
   ],
   "source": [
    "?//"
   ]
  },
  {
   "cell_type": "code",
   "execution_count": 8,
   "id": "interracial-moisture",
   "metadata": {},
   "outputs": [
    {
     "data": {
      "text/plain": [
       "3//5"
      ]
     },
     "execution_count": 8,
     "metadata": {},
     "output_type": "execute_result"
    }
   ],
   "source": [
    "3//5"
   ]
  },
  {
   "cell_type": "code",
   "execution_count": 9,
   "id": "forced-likelihood",
   "metadata": {},
   "outputs": [
    {
     "data": {
      "text/plain": [
       "2//1"
      ]
     },
     "execution_count": 9,
     "metadata": {},
     "output_type": "execute_result"
    }
   ],
   "source": [
    "2//1"
   ]
  },
  {
   "cell_type": "code",
   "execution_count": 10,
   "id": "comparable-forest",
   "metadata": {},
   "outputs": [
    {
     "data": {
      "text/plain": [
       "4//1"
      ]
     },
     "execution_count": 10,
     "metadata": {},
     "output_type": "execute_result"
    }
   ],
   "source": [
    "8//2"
   ]
  },
  {
   "cell_type": "code",
   "execution_count": 11,
   "id": "assumed-document",
   "metadata": {},
   "outputs": [
    {
     "data": {
      "text/plain": [
       "2//1"
      ]
     },
     "execution_count": 11,
     "metadata": {},
     "output_type": "execute_result"
    }
   ],
   "source": [
    "50//25"
   ]
  },
  {
   "cell_type": "code",
   "execution_count": 12,
   "id": "muslim-employer",
   "metadata": {},
   "outputs": [
    {
     "data": {
      "text/plain": [
       "2.0"
      ]
     },
     "execution_count": 12,
     "metadata": {},
     "output_type": "execute_result"
    }
   ],
   "source": [
    "50/25"
   ]
  },
  {
   "cell_type": "code",
   "execution_count": 13,
   "id": "danish-accident",
   "metadata": {},
   "outputs": [
    {
     "data": {
      "text/plain": [
       "8//17"
      ]
     },
     "execution_count": 13,
     "metadata": {},
     "output_type": "execute_result"
    }
   ],
   "source": [
    "8//17"
   ]
  },
  {
   "cell_type": "code",
   "execution_count": 14,
   "id": "indonesian-alpha",
   "metadata": {},
   "outputs": [
    {
     "data": {
      "text/plain": [
       "3-element Array{Int64,1}:\n",
       " 2\n",
       " 3\n",
       " 4"
      ]
     },
     "execution_count": 14,
     "metadata": {},
     "output_type": "execute_result"
    }
   ],
   "source": [
    "x=[2,3,4]"
   ]
  },
  {
   "cell_type": "code",
   "execution_count": 15,
   "id": "swiss-rubber",
   "metadata": {},
   "outputs": [
    {
     "data": {
      "text/plain": [
       "3-element Array{Int64,1}:\n",
       " 2\n",
       " 3\n",
       " 4"
      ]
     },
     "execution_count": 15,
     "metadata": {},
     "output_type": "execute_result"
    }
   ],
   "source": [
    "x"
   ]
  },
  {
   "cell_type": "code",
   "execution_count": 16,
   "id": "pediatric-semester",
   "metadata": {},
   "outputs": [
    {
     "ename": "LoadError",
     "evalue": "\u001b[91mMethodError: no method matching +(::Array{Int64,1}, ::Int64)\u001b[39m\n\u001b[91mFor element-wise addition, use broadcasting with dot syntax: array .+ scalar\u001b[39m\n\u001b[91m\u001b[0mClosest candidates are:\u001b[39m\n\u001b[91m\u001b[0m  +(::Any, ::Any, \u001b[91m::Any\u001b[39m, \u001b[91m::Any...\u001b[39m) at operators.jl:538\u001b[39m\n\u001b[91m\u001b[0m  +(\u001b[91m::Base.CoreLogging.LogLevel\u001b[39m, ::Integer) at logging.jl:116\u001b[39m\n\u001b[91m\u001b[0m  +(\u001b[91m::Complex{Bool}\u001b[39m, ::Real) at complex.jl:301\u001b[39m\n\u001b[91m\u001b[0m  ...\u001b[39m",
     "output_type": "error",
     "traceback": [
      "\u001b[91mMethodError: no method matching +(::Array{Int64,1}, ::Int64)\u001b[39m\n\u001b[91mFor element-wise addition, use broadcasting with dot syntax: array .+ scalar\u001b[39m\n\u001b[91m\u001b[0mClosest candidates are:\u001b[39m\n\u001b[91m\u001b[0m  +(::Any, ::Any, \u001b[91m::Any\u001b[39m, \u001b[91m::Any...\u001b[39m) at operators.jl:538\u001b[39m\n\u001b[91m\u001b[0m  +(\u001b[91m::Base.CoreLogging.LogLevel\u001b[39m, ::Integer) at logging.jl:116\u001b[39m\n\u001b[91m\u001b[0m  +(\u001b[91m::Complex{Bool}\u001b[39m, ::Real) at complex.jl:301\u001b[39m\n\u001b[91m\u001b[0m  ...\u001b[39m",
      "",
      "Stacktrace:",
      " [1] top-level scope at In[16]:1",
      " [2] include_string(::Function, ::Module, ::String, ::String) at .\\loading.jl:1091"
     ]
    }
   ],
   "source": [
    "x+1"
   ]
  },
  {
   "cell_type": "code",
   "execution_count": 17,
   "id": "smaller-maryland",
   "metadata": {},
   "outputs": [
    {
     "data": {
      "text/plain": [
       "3-element Array{Int64,1}:\n",
       " 3\n",
       " 4\n",
       " 5"
      ]
     },
     "execution_count": 17,
     "metadata": {},
     "output_type": "execute_result"
    }
   ],
   "source": [
    "x.+1"
   ]
  },
  {
   "cell_type": "code",
   "execution_count": 9,
   "id": "accredited-ebony",
   "metadata": {},
   "outputs": [],
   "source": [
    "using Plots"
   ]
  },
  {
   "cell_type": "code",
   "execution_count": 19,
   "id": "published-pocket",
   "metadata": {},
   "outputs": [
    {
     "data": {
      "image/svg+xml": [
       "<?xml version=\"1.0\" encoding=\"utf-8\"?>\n",
       "<svg xmlns=\"http://www.w3.org/2000/svg\" xmlns:xlink=\"http://www.w3.org/1999/xlink\" width=\"600\" height=\"400\" viewBox=\"0 0 2400 1600\">\n",
       "<defs>\n",
       "  <clipPath id=\"clip190\">\n",
       "    <rect x=\"0\" y=\"0\" width=\"2400\" height=\"1600\"/>\n",
       "  </clipPath>\n",
       "</defs>\n",
       "<path clip-path=\"url(#clip190)\" d=\"\n",
       "M0 1600 L2400 1600 L2400 0 L0 0  Z\n",
       "  \" fill=\"#ffffff\" fill-rule=\"evenodd\" fill-opacity=\"1\"/>\n",
       "<defs>\n",
       "  <clipPath id=\"clip191\">\n",
       "    <rect x=\"480\" y=\"0\" width=\"1681\" height=\"1600\"/>\n",
       "  </clipPath>\n",
       "</defs>\n",
       "<path clip-path=\"url(#clip190)\" d=\"\n",
       "M250.53 1486.45 L2352.76 1486.45 L2352.76 123.472 L250.53 123.472  Z\n",
       "  \" fill=\"#ffffff\" fill-rule=\"evenodd\" fill-opacity=\"1\"/>\n",
       "<defs>\n",
       "  <clipPath id=\"clip192\">\n",
       "    <rect x=\"250\" y=\"123\" width=\"2103\" height=\"1364\"/>\n",
       "  </clipPath>\n",
       "</defs>\n",
       "<polyline clip-path=\"url(#clip192)\" style=\"stroke:#000000; stroke-width:2; stroke-opacity:0.1; fill:none\" points=\"\n",
       "  310.027,1486.45 310.027,123.472 \n",
       "  \"/>\n",
       "<polyline clip-path=\"url(#clip192)\" style=\"stroke:#000000; stroke-width:2; stroke-opacity:0.1; fill:none\" points=\"\n",
       "  971.104,1486.45 971.104,123.472 \n",
       "  \"/>\n",
       "<polyline clip-path=\"url(#clip192)\" style=\"stroke:#000000; stroke-width:2; stroke-opacity:0.1; fill:none\" points=\"\n",
       "  1632.18,1486.45 1632.18,123.472 \n",
       "  \"/>\n",
       "<polyline clip-path=\"url(#clip192)\" style=\"stroke:#000000; stroke-width:2; stroke-opacity:0.1; fill:none\" points=\"\n",
       "  2293.26,1486.45 2293.26,123.472 \n",
       "  \"/>\n",
       "<polyline clip-path=\"url(#clip190)\" style=\"stroke:#000000; stroke-width:4; stroke-opacity:1; fill:none\" points=\"\n",
       "  250.53,1486.45 2352.76,1486.45 \n",
       "  \"/>\n",
       "<polyline clip-path=\"url(#clip190)\" style=\"stroke:#000000; stroke-width:4; stroke-opacity:1; fill:none\" points=\"\n",
       "  310.027,1486.45 310.027,1470.09 \n",
       "  \"/>\n",
       "<polyline clip-path=\"url(#clip190)\" style=\"stroke:#000000; stroke-width:4; stroke-opacity:1; fill:none\" points=\"\n",
       "  971.104,1486.45 971.104,1470.09 \n",
       "  \"/>\n",
       "<polyline clip-path=\"url(#clip190)\" style=\"stroke:#000000; stroke-width:4; stroke-opacity:1; fill:none\" points=\"\n",
       "  1632.18,1486.45 1632.18,1470.09 \n",
       "  \"/>\n",
       "<polyline clip-path=\"url(#clip190)\" style=\"stroke:#000000; stroke-width:4; stroke-opacity:1; fill:none\" points=\"\n",
       "  2293.26,1486.45 2293.26,1470.09 \n",
       "  \"/>\n",
       "<path clip-path=\"url(#clip190)\" d=\"M 0 0 M300.409 1543.18 L308.048 1543.18 L308.048 1516.82 L299.738 1518.49 L299.738 1514.23 L308.002 1512.56 L312.677 1512.56 L312.677 1543.18 L320.316 1543.18 L320.316 1547.12 L300.409 1547.12 L300.409 1543.18 Z\" fill=\"#000000\" fill-rule=\"evenodd\" fill-opacity=\"1\" /><path clip-path=\"url(#clip190)\" d=\"M 0 0 M965.757 1543.18 L982.076 1543.18 L982.076 1547.12 L960.132 1547.12 L960.132 1543.18 Q962.794 1540.43 967.377 1535.8 Q971.984 1531.15 973.164 1529.81 Q975.41 1527.28 976.289 1525.55 Q977.192 1523.79 977.192 1522.1 Q977.192 1519.34 975.248 1517.61 Q973.327 1515.87 970.225 1515.87 Q968.026 1515.87 965.572 1516.63 Q963.141 1517.4 960.364 1518.95 L960.364 1514.23 Q963.188 1513.09 965.641 1512.51 Q968.095 1511.93 970.132 1511.93 Q975.502 1511.93 978.697 1514.62 Q981.891 1517.31 981.891 1521.8 Q981.891 1523.93 981.081 1525.85 Q980.294 1527.74 978.188 1530.34 Q977.609 1531.01 974.507 1534.23 Q971.405 1537.42 965.757 1543.18 Z\" fill=\"#000000\" fill-rule=\"evenodd\" fill-opacity=\"1\" /><path clip-path=\"url(#clip190)\" d=\"M 0 0 M1636.43 1528.49 Q1639.79 1529.2 1641.66 1531.47 Q1643.56 1533.74 1643.56 1537.07 Q1643.56 1542.19 1640.04 1544.99 Q1636.52 1547.79 1630.04 1547.79 Q1627.86 1547.79 1625.55 1547.35 Q1623.26 1546.93 1620.8 1546.08 L1620.8 1541.56 Q1622.75 1542.7 1625.06 1543.28 Q1627.38 1543.86 1629.9 1543.86 Q1634.3 1543.86 1636.59 1542.12 Q1638.91 1540.38 1638.91 1537.07 Q1638.91 1534.02 1636.75 1532.31 Q1634.62 1530.57 1630.8 1530.57 L1626.78 1530.57 L1626.78 1526.73 L1630.99 1526.73 Q1634.44 1526.73 1636.27 1525.36 Q1638.1 1523.97 1638.1 1521.38 Q1638.1 1518.72 1636.2 1517.31 Q1634.32 1515.87 1630.8 1515.87 Q1628.88 1515.87 1626.68 1516.29 Q1624.48 1516.7 1621.85 1517.58 L1621.85 1513.42 Q1624.51 1512.68 1626.82 1512.31 Q1629.16 1511.93 1631.22 1511.93 Q1636.55 1511.93 1639.65 1514.37 Q1642.75 1516.77 1642.75 1520.89 Q1642.75 1523.76 1641.11 1525.75 Q1639.46 1527.72 1636.43 1528.49 Z\" fill=\"#000000\" fill-rule=\"evenodd\" fill-opacity=\"1\" /><path clip-path=\"url(#clip190)\" d=\"M 0 0 M2296.27 1516.63 L2284.46 1535.08 L2296.27 1535.08 L2296.27 1516.63 M2295.04 1512.56 L2300.92 1512.56 L2300.92 1535.08 L2305.85 1535.08 L2305.85 1538.97 L2300.92 1538.97 L2300.92 1547.12 L2296.27 1547.12 L2296.27 1538.97 L2280.67 1538.97 L2280.67 1534.46 L2295.04 1512.56 Z\" fill=\"#000000\" fill-rule=\"evenodd\" fill-opacity=\"1\" /><polyline clip-path=\"url(#clip192)\" style=\"stroke:#000000; stroke-width:2; stroke-opacity:0.1; fill:none\" points=\"\n",
       "  250.53,1447.87 2352.76,1447.87 \n",
       "  \"/>\n",
       "<polyline clip-path=\"url(#clip192)\" style=\"stroke:#000000; stroke-width:2; stroke-opacity:0.1; fill:none\" points=\"\n",
       "  250.53,1126.42 2352.76,1126.42 \n",
       "  \"/>\n",
       "<polyline clip-path=\"url(#clip192)\" style=\"stroke:#000000; stroke-width:2; stroke-opacity:0.1; fill:none\" points=\"\n",
       "  250.53,804.96 2352.76,804.96 \n",
       "  \"/>\n",
       "<polyline clip-path=\"url(#clip192)\" style=\"stroke:#000000; stroke-width:2; stroke-opacity:0.1; fill:none\" points=\"\n",
       "  250.53,483.503 2352.76,483.503 \n",
       "  \"/>\n",
       "<polyline clip-path=\"url(#clip192)\" style=\"stroke:#000000; stroke-width:2; stroke-opacity:0.1; fill:none\" points=\"\n",
       "  250.53,162.046 2352.76,162.046 \n",
       "  \"/>\n",
       "<polyline clip-path=\"url(#clip190)\" style=\"stroke:#000000; stroke-width:4; stroke-opacity:1; fill:none\" points=\"\n",
       "  250.53,1486.45 250.53,123.472 \n",
       "  \"/>\n",
       "<polyline clip-path=\"url(#clip190)\" style=\"stroke:#000000; stroke-width:4; stroke-opacity:1; fill:none\" points=\"\n",
       "  250.53,1447.87 275.757,1447.87 \n",
       "  \"/>\n",
       "<polyline clip-path=\"url(#clip190)\" style=\"stroke:#000000; stroke-width:4; stroke-opacity:1; fill:none\" points=\"\n",
       "  250.53,1126.42 275.757,1126.42 \n",
       "  \"/>\n",
       "<polyline clip-path=\"url(#clip190)\" style=\"stroke:#000000; stroke-width:4; stroke-opacity:1; fill:none\" points=\"\n",
       "  250.53,804.96 275.757,804.96 \n",
       "  \"/>\n",
       "<polyline clip-path=\"url(#clip190)\" style=\"stroke:#000000; stroke-width:4; stroke-opacity:1; fill:none\" points=\"\n",
       "  250.53,483.503 275.757,483.503 \n",
       "  \"/>\n",
       "<polyline clip-path=\"url(#clip190)\" style=\"stroke:#000000; stroke-width:4; stroke-opacity:1; fill:none\" points=\"\n",
       "  250.53,162.046 275.757,162.046 \n",
       "  \"/>\n",
       "<path clip-path=\"url(#clip190)\" d=\"M 0 0 M202.586 1433.67 Q198.975 1433.67 197.146 1437.24 Q195.34 1440.78 195.34 1447.91 Q195.34 1455.02 197.146 1458.58 Q198.975 1462.12 202.586 1462.12 Q206.22 1462.12 208.025 1458.58 Q209.854 1455.02 209.854 1447.91 Q209.854 1440.78 208.025 1437.24 Q206.22 1433.67 202.586 1433.67 M202.586 1429.97 Q208.396 1429.97 211.451 1434.58 Q214.53 1439.16 214.53 1447.91 Q214.53 1456.64 211.451 1461.24 Q208.396 1465.83 202.586 1465.83 Q196.775 1465.83 193.697 1461.24 Q190.641 1456.64 190.641 1447.91 Q190.641 1439.16 193.697 1434.58 Q196.775 1429.97 202.586 1429.97 Z\" fill=\"#000000\" fill-rule=\"evenodd\" fill-opacity=\"1\" /><path clip-path=\"url(#clip190)\" d=\"M 0 0 M58.0291 1146.21 L74.3485 1146.21 L74.3485 1150.14 L52.4042 1150.14 L52.4042 1146.21 Q55.0662 1143.46 59.6495 1138.83 Q64.2559 1134.17 65.4365 1132.83 Q67.6819 1130.31 68.5615 1128.57 Q69.4642 1126.81 69.4642 1125.12 Q69.4642 1122.37 67.5198 1120.63 Q65.5985 1118.89 62.4967 1118.89 Q60.2976 1118.89 57.8439 1119.66 Q55.4134 1120.42 52.6356 1121.97 L52.6356 1117.25 Q55.4597 1116.12 57.9134 1115.54 Q60.3671 1114.96 62.4041 1114.96 Q67.7744 1114.96 70.9689 1117.64 Q74.1633 1120.33 74.1633 1124.82 Q74.1633 1126.95 73.3531 1128.87 Q72.5661 1130.77 70.4596 1133.36 Q69.8809 1134.03 66.7791 1137.25 Q63.6772 1140.45 58.0291 1146.21 Z\" fill=\"#000000\" fill-rule=\"evenodd\" fill-opacity=\"1\" /><path clip-path=\"url(#clip190)\" d=\"M 0 0 M79.4179 1144.27 L84.3021 1144.27 L84.3021 1150.14 L79.4179 1150.14 L79.4179 1144.27 Z\" fill=\"#000000\" fill-rule=\"evenodd\" fill-opacity=\"1\" /><path clip-path=\"url(#clip190)\" d=\"M 0 0 M89.4178 1115.58 L107.774 1115.58 L107.774 1119.52 L93.7002 1119.52 L93.7002 1127.99 Q94.7187 1127.64 95.7373 1127.48 Q96.7558 1127.3 97.7743 1127.3 Q103.561 1127.3 106.941 1130.47 Q110.321 1133.64 110.321 1139.06 Q110.321 1144.64 106.848 1147.74 Q103.376 1150.82 97.0567 1150.82 Q94.8808 1150.82 92.6123 1150.45 Q90.3669 1150.08 87.9595 1149.33 L87.9595 1144.64 Q90.0428 1145.77 92.2651 1146.33 Q94.4873 1146.88 96.9641 1146.88 Q100.969 1146.88 103.307 1144.77 Q105.645 1142.67 105.645 1139.06 Q105.645 1135.45 103.307 1133.34 Q100.969 1131.23 96.9641 1131.23 Q95.0891 1131.23 93.2141 1131.65 Q91.3623 1132.07 89.4178 1132.95 L89.4178 1115.58 Z\" fill=\"#000000\" fill-rule=\"evenodd\" fill-opacity=\"1\" /><path clip-path=\"url(#clip190)\" d=\"M 0 0 M143.561 1124.68 L132.982 1135.31 L143.561 1145.89 L140.806 1148.69 L130.182 1138.06 L119.557 1148.69 L116.825 1145.89 L127.381 1135.31 L116.825 1124.68 L119.557 1121.88 L130.182 1132.51 L140.806 1121.88 L143.561 1124.68 Z\" fill=\"#000000\" fill-rule=\"evenodd\" fill-opacity=\"1\" /><path clip-path=\"url(#clip190)\" d=\"M 0 0 M149.441 1146.21 L157.08 1146.21 L157.08 1119.84 L148.769 1121.51 L148.769 1117.25 L157.033 1115.58 L161.709 1115.58 L161.709 1146.21 L169.348 1146.21 L169.348 1150.14 L149.441 1150.14 L149.441 1146.21 Z\" fill=\"#000000\" fill-rule=\"evenodd\" fill-opacity=\"1\" /><path clip-path=\"url(#clip190)\" d=\"M 0 0 M184.417 1118.66 Q180.806 1118.66 178.978 1122.23 Q177.172 1125.77 177.172 1132.9 Q177.172 1140.01 178.978 1143.57 Q180.806 1147.11 184.417 1147.11 Q188.052 1147.11 189.857 1143.57 Q191.686 1140.01 191.686 1132.9 Q191.686 1125.77 189.857 1122.23 Q188.052 1118.66 184.417 1118.66 M184.417 1114.96 Q190.227 1114.96 193.283 1119.57 Q196.362 1124.15 196.362 1132.9 Q196.362 1141.63 193.283 1146.23 Q190.227 1150.82 184.417 1150.82 Q178.607 1150.82 175.528 1146.23 Q172.473 1141.63 172.473 1132.9 Q172.473 1124.15 175.528 1119.57 Q178.607 1114.96 184.417 1114.96 Z\" fill=\"#000000\" fill-rule=\"evenodd\" fill-opacity=\"1\" /><path clip-path=\"url(#clip190)\" d=\"M 0 0 M197.547 1094.65 L212.461 1094.65 L212.461 1097.85 L201.026 1097.85 L201.026 1104.74 Q201.854 1104.45 202.681 1104.32 Q203.509 1104.17 204.336 1104.17 Q209.038 1104.17 211.784 1106.75 Q214.53 1109.32 214.53 1113.73 Q214.53 1118.26 211.709 1120.78 Q208.888 1123.28 203.753 1123.28 Q201.985 1123.28 200.142 1122.98 Q198.318 1122.68 196.362 1122.08 L196.362 1118.26 Q198.054 1119.18 199.86 1119.63 Q201.666 1120.08 203.678 1120.08 Q206.932 1120.08 208.831 1118.37 Q210.731 1116.66 210.731 1113.73 Q210.731 1110.79 208.831 1109.08 Q206.932 1107.37 203.678 1107.37 Q202.155 1107.37 200.631 1107.71 Q199.126 1108.05 197.547 1108.76 L197.547 1094.65 Z\" fill=\"#000000\" fill-rule=\"evenodd\" fill-opacity=\"1\" /><path clip-path=\"url(#clip190)\" d=\"M 0 0 M52.4505 794.128 L70.8068 794.128 L70.8068 798.063 L56.7328 798.063 L56.7328 806.535 Q57.7513 806.188 58.7699 806.026 Q59.7884 805.841 60.8069 805.841 Q66.5939 805.841 69.9735 809.012 Q73.3531 812.183 73.3531 817.6 Q73.3531 823.178 69.8809 826.28 Q66.4087 829.359 60.0893 829.359 Q57.9134 829.359 55.6449 828.989 Q53.3995 828.618 50.9921 827.877 L50.9921 823.178 Q53.0754 824.313 55.2977 824.868 Q57.5199 825.424 59.9967 825.424 Q64.0013 825.424 66.3393 823.317 Q68.6772 821.211 68.6772 817.6 Q68.6772 813.989 66.3393 811.882 Q64.0013 809.776 59.9967 809.776 Q58.1217 809.776 56.2467 810.192 Q54.3949 810.609 52.4505 811.489 L52.4505 794.128 Z\" fill=\"#000000\" fill-rule=\"evenodd\" fill-opacity=\"1\" /><path clip-path=\"url(#clip190)\" d=\"M 0 0 M78.4225 822.808 L83.3068 822.808 L83.3068 828.688 L78.4225 828.688 L78.4225 822.808 Z\" fill=\"#000000\" fill-rule=\"evenodd\" fill-opacity=\"1\" /><path clip-path=\"url(#clip190)\" d=\"M 0 0 M98.3761 797.206 Q94.765 797.206 92.9363 800.771 Q91.1308 804.313 91.1308 811.442 Q91.1308 818.549 92.9363 822.114 Q94.765 825.655 98.3761 825.655 Q102.01 825.655 103.816 822.114 Q105.645 818.549 105.645 811.442 Q105.645 804.313 103.816 800.771 Q102.01 797.206 98.3761 797.206 M98.3761 793.503 Q104.186 793.503 107.242 798.109 Q110.321 802.692 110.321 811.442 Q110.321 820.169 107.242 824.776 Q104.186 829.359 98.3761 829.359 Q92.566 829.359 89.4873 824.776 Q86.4318 820.169 86.4318 811.442 Q86.4318 802.692 89.4873 798.109 Q92.566 793.503 98.3761 793.503 Z\" fill=\"#000000\" fill-rule=\"evenodd\" fill-opacity=\"1\" /><path clip-path=\"url(#clip190)\" d=\"M 0 0 M143.561 803.225 L132.982 813.85 L143.561 824.428 L140.806 827.229 L130.182 816.604 L119.557 827.229 L116.825 824.428 L127.381 813.85 L116.825 803.225 L119.557 800.424 L130.182 811.049 L140.806 800.424 L143.561 803.225 Z\" fill=\"#000000\" fill-rule=\"evenodd\" fill-opacity=\"1\" /><path clip-path=\"url(#clip190)\" d=\"M 0 0 M149.441 824.752 L157.08 824.752 L157.08 798.387 L148.769 800.053 L148.769 795.794 L157.033 794.128 L161.709 794.128 L161.709 824.752 L169.348 824.752 L169.348 828.688 L149.441 828.688 L149.441 824.752 Z\" fill=\"#000000\" fill-rule=\"evenodd\" fill-opacity=\"1\" /><path clip-path=\"url(#clip190)\" d=\"M 0 0 M184.417 797.206 Q180.806 797.206 178.978 800.771 Q177.172 804.313 177.172 811.442 Q177.172 818.549 178.978 822.114 Q180.806 825.655 184.417 825.655 Q188.052 825.655 189.857 822.114 Q191.686 818.549 191.686 811.442 Q191.686 804.313 189.857 800.771 Q188.052 797.206 184.417 797.206 M184.417 793.503 Q190.227 793.503 193.283 798.109 Q196.362 802.692 196.362 811.442 Q196.362 820.169 193.283 824.776 Q190.227 829.359 184.417 829.359 Q178.607 829.359 175.528 824.776 Q172.473 820.169 172.473 811.442 Q172.473 802.692 175.528 798.109 Q178.607 793.503 184.417 793.503 Z\" fill=\"#000000\" fill-rule=\"evenodd\" fill-opacity=\"1\" /><path clip-path=\"url(#clip190)\" d=\"M 0 0 M197.547 773.197 L212.461 773.197 L212.461 776.395 L201.026 776.395 L201.026 783.278 Q201.854 782.996 202.681 782.864 Q203.509 782.714 204.336 782.714 Q209.038 782.714 211.784 785.291 Q214.53 787.867 214.53 792.268 Q214.53 796.801 211.709 799.321 Q208.888 801.823 203.753 801.823 Q201.985 801.823 200.142 801.522 Q198.318 801.221 196.362 800.619 L196.362 796.801 Q198.054 797.723 199.86 798.174 Q201.666 798.625 203.678 798.625 Q206.932 798.625 208.831 796.914 Q210.731 795.202 210.731 792.268 Q210.731 789.334 208.831 787.623 Q206.932 785.911 203.678 785.911 Q202.155 785.911 200.631 786.25 Q199.126 786.588 197.547 787.303 L197.547 773.197 Z\" fill=\"#000000\" fill-rule=\"evenodd\" fill-opacity=\"1\" /><path clip-path=\"url(#clip190)\" d=\"M 0 0 M52.1264 472.67 L74.3485 472.67 L74.3485 474.661 L61.8023 507.23 L56.918 507.23 L68.7235 476.606 L52.1264 476.606 L52.1264 472.67 Z\" fill=\"#000000\" fill-rule=\"evenodd\" fill-opacity=\"1\" /><path clip-path=\"url(#clip190)\" d=\"M 0 0 M79.4179 501.351 L84.3021 501.351 L84.3021 507.23 L79.4179 507.23 L79.4179 501.351 Z\" fill=\"#000000\" fill-rule=\"evenodd\" fill-opacity=\"1\" /><path clip-path=\"url(#clip190)\" d=\"M 0 0 M89.4178 472.67 L107.774 472.67 L107.774 476.606 L93.7002 476.606 L93.7002 485.078 Q94.7187 484.731 95.7373 484.568 Q96.7558 484.383 97.7743 484.383 Q103.561 484.383 106.941 487.555 Q110.321 490.726 110.321 496.143 Q110.321 501.721 106.848 504.823 Q103.376 507.902 97.0567 507.902 Q94.8808 507.902 92.6123 507.531 Q90.3669 507.161 87.9595 506.42 L87.9595 501.721 Q90.0428 502.855 92.2651 503.411 Q94.4873 503.967 96.9641 503.967 Q100.969 503.967 103.307 501.86 Q105.645 499.754 105.645 496.143 Q105.645 492.531 103.307 490.425 Q100.969 488.318 96.9641 488.318 Q95.0891 488.318 93.2141 488.735 Q91.3623 489.152 89.4178 490.031 L89.4178 472.67 Z\" fill=\"#000000\" fill-rule=\"evenodd\" fill-opacity=\"1\" /><path clip-path=\"url(#clip190)\" d=\"M 0 0 M143.561 481.768 L132.982 492.393 L143.561 502.971 L140.806 505.772 L130.182 495.147 L119.557 505.772 L116.825 502.971 L127.381 492.393 L116.825 481.768 L119.557 478.967 L130.182 489.592 L140.806 478.967 L143.561 481.768 Z\" fill=\"#000000\" fill-rule=\"evenodd\" fill-opacity=\"1\" /><path clip-path=\"url(#clip190)\" d=\"M 0 0 M149.441 503.295 L157.08 503.295 L157.08 476.93 L148.769 478.596 L148.769 474.337 L157.033 472.67 L161.709 472.67 L161.709 503.295 L169.348 503.295 L169.348 507.23 L149.441 507.23 L149.441 503.295 Z\" fill=\"#000000\" fill-rule=\"evenodd\" fill-opacity=\"1\" /><path clip-path=\"url(#clip190)\" d=\"M 0 0 M184.417 475.749 Q180.806 475.749 178.978 479.314 Q177.172 482.856 177.172 489.985 Q177.172 497.092 178.978 500.656 Q180.806 504.198 184.417 504.198 Q188.052 504.198 189.857 500.656 Q191.686 497.092 191.686 489.985 Q191.686 482.856 189.857 479.314 Q188.052 475.749 184.417 475.749 M184.417 472.045 Q190.227 472.045 193.283 476.652 Q196.362 481.235 196.362 489.985 Q196.362 498.712 193.283 503.318 Q190.227 507.902 184.417 507.902 Q178.607 507.902 175.528 503.318 Q172.473 498.712 172.473 489.985 Q172.473 481.235 175.528 476.652 Q178.607 472.045 184.417 472.045 Z\" fill=\"#000000\" fill-rule=\"evenodd\" fill-opacity=\"1\" /><path clip-path=\"url(#clip190)\" d=\"M 0 0 M197.547 451.74 L212.461 451.74 L212.461 454.937 L201.026 454.937 L201.026 461.821 Q201.854 461.539 202.681 461.407 Q203.509 461.257 204.336 461.257 Q209.038 461.257 211.784 463.833 Q214.53 466.41 214.53 470.811 Q214.53 475.344 211.709 477.864 Q208.888 480.365 203.753 480.365 Q201.985 480.365 200.142 480.065 Q198.318 479.764 196.362 479.162 L196.362 475.344 Q198.054 476.265 199.86 476.717 Q201.666 477.168 203.678 477.168 Q206.932 477.168 208.831 475.457 Q210.731 473.745 210.731 470.811 Q210.731 467.877 208.831 466.166 Q206.932 464.454 203.678 464.454 Q202.155 464.454 200.631 464.793 Q199.126 465.131 197.547 465.846 L197.547 451.74 Z\" fill=\"#000000\" fill-rule=\"evenodd\" fill-opacity=\"1\" /><path clip-path=\"url(#clip190)\" d=\"M 0 0 M52.2233 181.838 L59.8622 181.838 L59.8622 155.472 L51.552 157.139 L51.552 152.88 L59.8159 151.213 L64.4918 151.213 L64.4918 181.838 L72.1306 181.838 L72.1306 185.773 L52.2233 185.773 L52.2233 181.838 Z\" fill=\"#000000\" fill-rule=\"evenodd\" fill-opacity=\"1\" /><path clip-path=\"url(#clip190)\" d=\"M 0 0 M77.2 179.894 L82.0843 179.894 L82.0843 185.773 L77.2 185.773 L77.2 179.894 Z\" fill=\"#000000\" fill-rule=\"evenodd\" fill-opacity=\"1\" /><path clip-path=\"url(#clip190)\" d=\"M 0 0 M97.1536 154.292 Q93.5425 154.292 91.7138 157.857 Q89.9083 161.398 89.9083 168.528 Q89.9083 175.634 91.7138 179.199 Q93.5425 182.741 97.1536 182.741 Q100.788 182.741 102.593 179.199 Q104.422 175.634 104.422 168.528 Q104.422 161.398 102.593 157.857 Q100.788 154.292 97.1536 154.292 M97.1536 150.588 Q102.964 150.588 106.019 155.195 Q109.098 159.778 109.098 168.528 Q109.098 177.255 106.019 181.861 Q102.964 186.445 97.1536 186.445 Q91.3435 186.445 88.2648 181.861 Q85.2092 177.255 85.2092 168.528 Q85.2092 159.778 88.2648 155.195 Q91.3435 150.588 97.1536 150.588 Z\" fill=\"#000000\" fill-rule=\"evenodd\" fill-opacity=\"1\" /><path clip-path=\"url(#clip190)\" d=\"M 0 0 M142.339 160.31 L131.76 170.935 L142.339 181.514 L139.584 184.315 L128.959 173.69 L118.334 184.315 L115.603 181.514 L126.158 170.935 L115.603 160.31 L118.334 157.509 L128.959 168.134 L139.584 157.509 L142.339 160.31 Z\" fill=\"#000000\" fill-rule=\"evenodd\" fill-opacity=\"1\" /><path clip-path=\"url(#clip190)\" d=\"M 0 0 M148.218 181.838 L155.857 181.838 L155.857 155.472 L147.547 157.139 L147.547 152.88 L155.811 151.213 L160.487 151.213 L160.487 181.838 L168.125 181.838 L168.125 185.773 L148.218 185.773 L148.218 181.838 Z\" fill=\"#000000\" fill-rule=\"evenodd\" fill-opacity=\"1\" /><path clip-path=\"url(#clip190)\" d=\"M 0 0 M183.195 154.292 Q179.584 154.292 177.755 157.857 Q175.95 161.398 175.95 168.528 Q175.95 175.634 177.755 179.199 Q179.584 182.741 183.195 182.741 Q186.829 182.741 188.635 179.199 Q190.463 175.634 190.463 168.528 Q190.463 161.398 188.635 157.857 Q186.829 154.292 183.195 154.292 M183.195 150.588 Q189.005 150.588 192.061 155.195 Q195.139 159.778 195.139 168.528 Q195.139 177.255 192.061 181.861 Q189.005 186.445 183.195 186.445 Q177.385 186.445 174.306 181.861 Q171.25 177.255 171.25 168.528 Q171.25 159.778 174.306 155.195 Q177.385 150.588 183.195 150.588 Z\" fill=\"#000000\" fill-rule=\"evenodd\" fill-opacity=\"1\" /><path clip-path=\"url(#clip190)\" d=\"M 0 0 M205.164 142.809 Q202.606 142.809 201.101 144.558 Q199.615 146.307 199.615 149.354 Q199.615 152.382 201.101 154.15 Q202.606 155.899 205.164 155.899 Q207.722 155.899 209.207 154.15 Q210.712 152.382 210.712 149.354 Q210.712 146.307 209.207 144.558 Q207.722 142.809 205.164 142.809 M212.706 130.903 L212.706 134.364 Q211.276 133.687 209.809 133.33 Q208.361 132.972 206.932 132.972 Q203.17 132.972 201.177 135.511 Q199.202 138.05 198.92 143.185 Q200.029 141.549 201.703 140.684 Q203.377 139.8 205.389 139.8 Q209.621 139.8 212.066 142.376 Q214.53 144.934 214.53 149.354 Q214.53 153.68 211.972 156.294 Q209.414 158.908 205.164 158.908 Q200.293 158.908 197.716 155.184 Q195.139 151.442 195.139 144.351 Q195.139 137.693 198.299 133.743 Q201.459 129.775 206.781 129.775 Q208.211 129.775 209.659 130.057 Q211.126 130.339 212.706 130.903 Z\" fill=\"#000000\" fill-rule=\"evenodd\" fill-opacity=\"1\" /><path clip-path=\"url(#clip190)\" d=\"M 0 0 M1018.89 12.096 L1031.08 12.096 L1046.52 53.2532 L1062.03 12.096 L1074.23 12.096 L1074.23 72.576 L1066.24 72.576 L1066.24 19.4686 L1050.65 60.9499 L1042.43 60.9499 L1026.83 19.4686 L1026.83 72.576 L1018.89 72.576 L1018.89 12.096 Z\" fill=\"#000000\" fill-rule=\"evenodd\" fill-opacity=\"1\" /><path clip-path=\"url(#clip190)\" d=\"M 0 0 M1082.04 27.2059 L1089.5 27.2059 L1089.5 72.576 L1082.04 72.576 L1082.04 27.2059 M1082.04 9.54393 L1089.5 9.54393 L1089.5 18.9825 L1082.04 18.9825 L1082.04 9.54393 Z\" fill=\"#000000\" fill-rule=\"evenodd\" fill-opacity=\"1\" /><path clip-path=\"url(#clip190)\" d=\"M 0 0 M1130.9 65.7705 L1130.9 89.8329 L1123.4 89.8329 L1123.4 27.2059 L1130.9 27.2059 L1130.9 34.0924 Q1133.25 30.0415 1136.81 28.0971 Q1140.42 26.1121 1145.4 26.1121 Q1153.66 26.1121 1158.81 32.6746 Q1163.99 39.2371 1163.99 49.9314 Q1163.99 60.6258 1158.81 67.1883 Q1153.66 73.7508 1145.4 73.7508 Q1140.42 73.7508 1136.81 71.8063 Q1133.25 69.8214 1130.9 65.7705 M1156.26 49.9314 Q1156.26 41.7081 1152.85 37.0496 Q1149.49 32.3505 1143.58 32.3505 Q1137.66 32.3505 1134.26 37.0496 Q1130.9 41.7081 1130.9 49.9314 Q1130.9 58.1548 1134.26 62.8538 Q1137.66 67.5124 1143.58 67.5124 Q1149.49 67.5124 1152.85 62.8538 Q1156.26 58.1548 1156.26 49.9314 Z\" fill=\"#000000\" fill-rule=\"evenodd\" fill-opacity=\"1\" /><path clip-path=\"url(#clip190)\" d=\"M 0 0 M1198.1 34.1734 Q1196.85 33.4443 1195.35 33.1202 Q1193.89 32.7556 1192.11 32.7556 Q1185.79 32.7556 1182.38 36.8875 Q1179.02 40.9789 1179.02 48.6757 L1179.02 72.576 L1171.53 72.576 L1171.53 27.2059 L1179.02 27.2059 L1179.02 34.2544 Q1181.37 30.1225 1185.14 28.1376 Q1188.91 26.1121 1194.29 26.1121 Q1195.06 26.1121 1196 26.2337 Q1196.93 26.3147 1198.06 26.5172 L1198.1 34.1734 Z\" fill=\"#000000\" fill-rule=\"evenodd\" fill-opacity=\"1\" /><path clip-path=\"url(#clip190)\" d=\"M 0 0 M1205.92 27.2059 L1213.37 27.2059 L1213.37 72.576 L1205.92 72.576 L1205.92 27.2059 M1205.92 9.54393 L1213.37 9.54393 L1213.37 18.9825 L1205.92 18.9825 L1205.92 9.54393 Z\" fill=\"#000000\" fill-rule=\"evenodd\" fill-opacity=\"1\" /><path clip-path=\"url(#clip190)\" d=\"M 0 0 M1256.52 35.9153 Q1259.31 30.8922 1263.2 28.5022 Q1267.09 26.1121 1272.35 26.1121 Q1279.44 26.1121 1283.29 31.0947 Q1287.14 36.0368 1287.14 45.1919 L1287.14 72.576 L1279.65 72.576 L1279.65 45.4349 Q1279.65 38.913 1277.34 35.7533 Q1275.03 32.5936 1270.29 32.5936 Q1264.5 32.5936 1261.13 36.4419 Q1257.77 40.2903 1257.77 46.9338 L1257.77 72.576 L1250.28 72.576 L1250.28 45.4349 Q1250.28 38.8725 1247.97 35.7533 Q1245.66 32.5936 1240.84 32.5936 Q1235.13 32.5936 1231.76 36.4824 Q1228.4 40.3308 1228.4 46.9338 L1228.4 72.576 L1220.91 72.576 L1220.91 27.2059 L1228.4 27.2059 L1228.4 34.2544 Q1230.95 30.082 1234.52 28.0971 Q1238.08 26.1121 1242.99 26.1121 Q1247.93 26.1121 1251.37 28.6237 Q1254.86 31.1352 1256.52 35.9153 Z\" fill=\"#000000\" fill-rule=\"evenodd\" fill-opacity=\"1\" /><path clip-path=\"url(#clip190)\" d=\"M 0 0 M1333.77 48.0275 L1333.77 51.6733 L1299.5 51.6733 Q1299.98 59.3701 1304.11 63.421 Q1308.29 67.4314 1315.7 67.4314 Q1319.99 67.4314 1324 66.3781 Q1328.05 65.3249 1332.02 63.2184 L1332.02 70.267 Q1328.01 71.9684 1323.8 72.8596 Q1319.59 73.7508 1315.25 73.7508 Q1304.4 73.7508 1298.04 67.4314 Q1291.72 61.1119 1291.72 50.3365 Q1291.72 39.1965 1297.71 32.6746 Q1303.75 26.1121 1313.96 26.1121 Q1323.11 26.1121 1328.42 32.0264 Q1333.77 37.9003 1333.77 48.0275 M1326.31 45.84 Q1326.23 39.7232 1322.87 36.0774 Q1319.55 32.4315 1314.04 32.4315 Q1307.8 32.4315 1304.03 35.9558 Q1300.31 39.4801 1299.74 45.8805 L1326.31 45.84 Z\" fill=\"#000000\" fill-rule=\"evenodd\" fill-opacity=\"1\" /><path clip-path=\"url(#clip190)\" d=\"M 0 0 M1367.88 34.1734 Q1366.62 33.4443 1365.12 33.1202 Q1363.66 32.7556 1361.88 32.7556 Q1355.56 32.7556 1352.16 36.8875 Q1348.8 40.9789 1348.8 48.6757 L1348.8 72.576 L1341.3 72.576 L1341.3 27.2059 L1348.8 27.2059 L1348.8 34.2544 Q1351.15 30.1225 1354.91 28.1376 Q1358.68 26.1121 1364.07 26.1121 Q1364.84 26.1121 1365.77 26.2337 Q1366.7 26.3147 1367.83 26.5172 L1367.88 34.1734 Z\" fill=\"#000000\" fill-rule=\"evenodd\" fill-opacity=\"1\" /><path clip-path=\"url(#clip190)\" d=\"M 0 0 M1396.31 49.7694 Q1387.28 49.7694 1383.8 51.8354 Q1380.31 53.9013 1380.31 58.8839 Q1380.31 62.8538 1382.9 65.2034 Q1385.54 67.5124 1390.03 67.5124 Q1396.23 67.5124 1399.96 63.1374 Q1403.73 58.7219 1403.73 51.4303 L1403.73 49.7694 L1396.31 49.7694 M1411.18 46.6907 L1411.18 72.576 L1403.73 72.576 L1403.73 65.6895 Q1401.17 69.8214 1397.37 71.8063 Q1393.56 73.7508 1388.05 73.7508 Q1381.08 73.7508 1376.95 69.8619 Q1372.86 65.9325 1372.86 59.3701 Q1372.86 51.7138 1377.96 47.825 Q1383.11 43.9361 1393.27 43.9361 L1403.73 43.9361 L1403.73 43.2069 Q1403.73 38.0623 1400.32 35.2672 Q1396.96 32.4315 1390.84 32.4315 Q1386.96 32.4315 1383.27 33.3632 Q1379.58 34.295 1376.18 36.1584 L1376.18 29.2718 Q1380.27 27.692 1384.12 26.9223 Q1387.97 26.1121 1391.61 26.1121 Q1401.46 26.1121 1406.32 31.2163 Q1411.18 36.3204 1411.18 46.6907 Z\" fill=\"#000000\" fill-rule=\"evenodd\" fill-opacity=\"1\" /><path clip-path=\"url(#clip190)\" d=\"M 0 0 M1439.62 49.7694 Q1430.58 49.7694 1427.1 51.8354 Q1423.62 53.9013 1423.62 58.8839 Q1423.62 62.8538 1426.21 65.2034 Q1428.84 67.5124 1433.34 67.5124 Q1439.54 67.5124 1443.26 63.1374 Q1447.03 58.7219 1447.03 51.4303 L1447.03 49.7694 L1439.62 49.7694 M1454.48 46.6907 L1454.48 72.576 L1447.03 72.576 L1447.03 65.6895 Q1444.48 69.8214 1440.67 71.8063 Q1436.86 73.7508 1431.35 73.7508 Q1424.39 73.7508 1420.25 69.8619 Q1416.16 65.9325 1416.16 59.3701 Q1416.16 51.7138 1421.27 47.825 Q1426.41 43.9361 1436.58 43.9361 L1447.03 43.9361 L1447.03 43.2069 Q1447.03 38.0623 1443.63 35.2672 Q1440.26 32.4315 1434.15 32.4315 Q1430.26 32.4315 1426.57 33.3632 Q1422.89 34.295 1419.48 36.1584 L1419.48 29.2718 Q1423.58 27.692 1427.42 26.9223 Q1431.27 26.1121 1434.92 26.1121 Q1444.76 26.1121 1449.62 31.2163 Q1454.48 36.3204 1454.48 46.6907 Z\" fill=\"#000000\" fill-rule=\"evenodd\" fill-opacity=\"1\" /><path clip-path=\"url(#clip190)\" d=\"M 0 0 M1482.92 49.7694 Q1473.89 49.7694 1470.4 51.8354 Q1466.92 53.9013 1466.92 58.8839 Q1466.92 62.8538 1469.51 65.2034 Q1472.15 67.5124 1476.64 67.5124 Q1482.84 67.5124 1486.57 63.1374 Q1490.33 58.7219 1490.33 51.4303 L1490.33 49.7694 L1482.92 49.7694 M1497.79 46.6907 L1497.79 72.576 L1490.33 72.576 L1490.33 65.6895 Q1487.78 69.8214 1483.97 71.8063 Q1480.17 73.7508 1474.66 73.7508 Q1467.69 73.7508 1463.56 69.8619 Q1459.47 65.9325 1459.47 59.3701 Q1459.47 51.7138 1464.57 47.825 Q1469.71 43.9361 1479.88 43.9361 L1490.33 43.9361 L1490.33 43.2069 Q1490.33 38.0623 1486.93 35.2672 Q1483.57 32.4315 1477.45 32.4315 Q1473.56 32.4315 1469.88 33.3632 Q1466.19 34.295 1462.79 36.1584 L1462.79 29.2718 Q1466.88 27.692 1470.73 26.9223 Q1474.58 26.1121 1478.22 26.1121 Q1488.07 26.1121 1492.93 31.2163 Q1497.79 36.3204 1497.79 46.6907 Z\" fill=\"#000000\" fill-rule=\"evenodd\" fill-opacity=\"1\" /><path clip-path=\"url(#clip190)\" d=\"M 0 0 M1526.23 49.7694 Q1517.19 49.7694 1513.71 51.8354 Q1510.22 53.9013 1510.22 58.8839 Q1510.22 62.8538 1512.82 65.2034 Q1515.45 67.5124 1519.95 67.5124 Q1526.14 67.5124 1529.87 63.1374 Q1533.64 58.7219 1533.64 51.4303 L1533.64 49.7694 L1526.23 49.7694 M1541.09 46.6907 L1541.09 72.576 L1533.64 72.576 L1533.64 65.6895 Q1531.09 69.8214 1527.28 71.8063 Q1523.47 73.7508 1517.96 73.7508 Q1510.99 73.7508 1506.86 69.8619 Q1502.77 65.9325 1502.77 59.3701 Q1502.77 51.7138 1507.87 47.825 Q1513.02 43.9361 1523.19 43.9361 L1533.64 43.9361 L1533.64 43.2069 Q1533.64 38.0623 1530.24 35.2672 Q1526.87 32.4315 1520.76 32.4315 Q1516.87 32.4315 1513.18 33.3632 Q1509.49 34.295 1506.09 36.1584 L1506.09 29.2718 Q1510.18 27.692 1514.03 26.9223 Q1517.88 26.1121 1521.53 26.1121 Q1531.37 26.1121 1536.23 31.2163 Q1541.09 36.3204 1541.09 46.6907 Z\" fill=\"#000000\" fill-rule=\"evenodd\" fill-opacity=\"1\" /><path clip-path=\"url(#clip190)\" d=\"M 0 0 M1569.53 49.7694 Q1560.5 49.7694 1557.01 51.8354 Q1553.53 53.9013 1553.53 58.8839 Q1553.53 62.8538 1556.12 65.2034 Q1558.75 67.5124 1563.25 67.5124 Q1569.45 67.5124 1573.18 63.1374 Q1576.94 58.7219 1576.94 51.4303 L1576.94 49.7694 L1569.53 49.7694 M1584.4 46.6907 L1584.4 72.576 L1576.94 72.576 L1576.94 65.6895 Q1574.39 69.8214 1570.58 71.8063 Q1566.77 73.7508 1561.27 73.7508 Q1554.3 73.7508 1550.17 69.8619 Q1546.07 65.9325 1546.07 59.3701 Q1546.07 51.7138 1551.18 47.825 Q1556.32 43.9361 1566.49 43.9361 L1576.94 43.9361 L1576.94 43.2069 Q1576.94 38.0623 1573.54 35.2672 Q1570.18 32.4315 1564.06 32.4315 Q1560.17 32.4315 1556.49 33.3632 Q1552.8 34.295 1549.4 36.1584 L1549.4 29.2718 Q1553.49 27.692 1557.34 26.9223 Q1561.18 26.1121 1564.83 26.1121 Q1574.67 26.1121 1579.53 31.2163 Q1584.4 36.3204 1584.4 46.6907 Z\" fill=\"#000000\" fill-rule=\"evenodd\" fill-opacity=\"1\" /><polyline clip-path=\"url(#clip192)\" style=\"stroke:#009af9; stroke-width:4; stroke-opacity:1; fill:none\" points=\"\n",
       "  310.027,1447.87 971.104,1447.87 1632.18,1440.73 2293.26,162.047 \n",
       "  \"/>\n",
       "</svg>\n"
      ]
     },
     "execution_count": 19,
     "metadata": {},
     "output_type": "execute_result"
    }
   ],
   "source": [
    "plot([1,4,5555,999999], legend= false)\n",
    "title!(\"Mi primeraaaaa\")"
   ]
  },
  {
   "cell_type": "code",
   "execution_count": null,
   "id": "reduced-grove",
   "metadata": {},
   "outputs": [],
   "source": []
  }
 ],
 "metadata": {
  "kernelspec": {
   "display_name": "Julia 1.5.4",
   "language": "julia",
   "name": "julia-1.5"
  },
  "language_info": {
   "file_extension": ".jl",
   "mimetype": "application/julia",
   "name": "julia",
   "version": "1.5.4"
  }
 },
 "nbformat": 4,
 "nbformat_minor": 5
}
