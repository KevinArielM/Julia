{
 "cells": [
  {
   "cell_type": "code",
   "execution_count": 1,
   "id": "exciting-blake",
   "metadata": {},
   "outputs": [],
   "source": [
    "using Distributions, CSV, DataFrames, Statistics, Plots"
   ]
  },
  {
   "cell_type": "code",
   "execution_count": 2,
   "id": "greenhouse-valuable",
   "metadata": {},
   "outputs": [
    {
     "data": {
      "text/plain": [
       "Valor_presente (generic function with 1 method)"
      ]
     },
     "execution_count": 2,
     "metadata": {},
     "output_type": "execute_result"
    }
   ],
   "source": [
    "function Valor_presente(Monto, Interés, Plazo)\n",
    "    VP=Monto*(1+Interés)^-Plazo\n",
    "end\n",
    "\n",
    "\n",
    "    \n",
    "    "
   ]
  },
  {
   "cell_type": "code",
   "execution_count": 3,
   "id": "metallic-miracle",
   "metadata": {},
   "outputs": [
    {
     "data": {
      "text/plain": [
       "68.05831970337529"
      ]
     },
     "execution_count": 3,
     "metadata": {},
     "output_type": "execute_result"
    }
   ],
   "source": [
    "Valor_presente(100,.08,5) ##apply "
   ]
  },
  {
   "cell_type": "code",
   "execution_count": 4,
   "id": "tutorial-swedish",
   "metadata": {},
   "outputs": [
    {
     "data": {
      "text/plain": [
       "Valor_futuro (generic function with 1 method)"
      ]
     },
     "execution_count": 4,
     "metadata": {},
     "output_type": "execute_result"
    }
   ],
   "source": [
    "function Valor_futuro(Monto, Interés, Plazo)\n",
    "    VF=Monto*(1+Interés)^Plazo\n",
    "end\n"
   ]
  },
  {
   "cell_type": "code",
   "execution_count": 5,
   "id": "fossil-louisiana",
   "metadata": {},
   "outputs": [
    {
     "data": {
      "text/plain": [
       "14272.17849956659"
      ]
     },
     "execution_count": 5,
     "metadata": {},
     "output_type": "execute_result"
    }
   ],
   "source": [
    "Valor_futuro(5342,.14,7.5) ##apply"
   ]
  },
  {
   "cell_type": "code",
   "execution_count": 6,
   "id": "veterinary-search",
   "metadata": {},
   "outputs": [
    {
     "data": {
      "text/plain": [
       "10-element Array{Float64,1}:\n",
       " 0.0016848751676283857\n",
       " 0.7810864338108334\n",
       " 0.2765413014390885\n",
       " 0.8644942595975875\n",
       " 0.6324842921293417\n",
       " 0.4022352928075008\n",
       " 0.4780354590042095\n",
       " 0.4374379254681726\n",
       " 0.22274684078719909\n",
       " 0.7820538236900281"
      ]
     },
     "execution_count": 6,
     "metadata": {},
     "output_type": "execute_result"
    }
   ],
   "source": [
    "X=Uniform(0,1)\n",
    "rand(X,10)\n"
   ]
  },
  {
   "cell_type": "code",
   "execution_count": 7,
   "id": "loved-girlfriend",
   "metadata": {},
   "outputs": [
    {
     "data": {
      "text/plain": [
       "10-element Array{Float64,1}:\n",
       " -0.39840006340057654\n",
       "  0.1750440956810306\n",
       "  0.45537635862096887\n",
       " -1.4109144510293554\n",
       "  0.8419201625246762\n",
       " -1.5394961971547896\n",
       "  1.5951726581516126\n",
       "  0.7665174369285195\n",
       "  0.2161736790979586\n",
       " -0.5614959120729387"
      ]
     },
     "execution_count": 7,
     "metadata": {},
     "output_type": "execute_result"
    }
   ],
   "source": [
    "X=Normal(0,1)\n",
    "rand(X,10)"
   ]
  },
  {
   "cell_type": "code",
   "execution_count": 8,
   "id": "premier-caution",
   "metadata": {},
   "outputs": [
    {
     "data": {
      "text/plain": [
       "10-element Array{Float64,1}:\n",
       " 21.68840172947072\n",
       "  0.4736558010689301\n",
       "  3.935992875430252\n",
       "  6.975291840785629\n",
       " 12.940481387174552\n",
       "  8.583552978308823\n",
       "  1.1472390532581236\n",
       "  6.175070675066884\n",
       " 11.76145558447883\n",
       "  1.5212509275839916"
      ]
     },
     "execution_count": 8,
     "metadata": {},
     "output_type": "execute_result"
    }
   ],
   "source": [
    "X=Exponential(6)\n",
    "rand(X,10)\n"
   ]
  },
  {
   "cell_type": "code",
   "execution_count": 9,
   "id": "palestinian-brisbane",
   "metadata": {},
   "outputs": [
    {
     "data": {
      "text/plain": [
       "simulatasas_ (generic function with 1 method)"
      ]
     },
     "execution_count": 9,
     "metadata": {},
     "output_type": "execute_result"
    }
   ],
   "source": [
    "function simulatasas_(n)\n",
    "    rand(Uniform(-.05,0.08),n)\n",
    "end\n",
    "\n",
    "\n",
    "    "
   ]
  },
  {
   "cell_type": "code",
   "execution_count": 10,
   "id": "saved-basketball",
   "metadata": {},
   "outputs": [
    {
     "data": {
      "text/plain": [
       "12-element Array{Float64,1}:\n",
       "  0.0798994285166381\n",
       "  0.0716024244901755\n",
       "  0.057068858462179156\n",
       " -0.04002131288422367\n",
       "  0.07920709014129589\n",
       " -0.034971067067944034\n",
       "  0.07061542507061325\n",
       "  0.06441511665300477\n",
       " -0.02688130165693326\n",
       " -0.017471740410764394\n",
       " -0.04543340122142035\n",
       " -0.003007134562423887"
      ]
     },
     "execution_count": 10,
     "metadata": {},
     "output_type": "execute_result"
    }
   ],
   "source": [
    "simulatasas_(12)"
   ]
  },
  {
   "cell_type": "code",
   "execution_count": 11,
   "id": "rising-leonard",
   "metadata": {},
   "outputs": [
    {
     "name": "stdout",
     "output_type": "stream",
     "text": [
      "search: \u001b[0m\u001b[1mU\u001b[22m\u001b[0m\u001b[1mn\u001b[22m\u001b[0m\u001b[1mi\u001b[22m\u001b[0m\u001b[1mf\u001b[22m\u001b[0m\u001b[1mo\u001b[22m\u001b[0m\u001b[1mr\u001b[22m\u001b[0m\u001b[1mm\u001b[22m Discrete\u001b[0m\u001b[1mU\u001b[22m\u001b[0m\u001b[1mn\u001b[22m\u001b[0m\u001b[1mi\u001b[22m\u001b[0m\u001b[1mf\u001b[22m\u001b[0m\u001b[1mo\u001b[22m\u001b[0m\u001b[1mr\u001b[22m\u001b[0m\u001b[1mm\u001b[22m\n",
      "\n"
     ]
    },
    {
     "data": {
      "text/latex": [
       "\\begin{verbatim}\n",
       "Uniform(a,b)\n",
       "\\end{verbatim}\n",
       "The \\emph{continuous uniform distribution} over an interval $[a, b]$ has probability density function\n",
       "\n",
       "$$f(x; a, b) = \\frac{1}{b - a}, \\quad a \\le x \\le b$$\n",
       "\\begin{verbatim}\n",
       "Uniform()        # Uniform distribution over [0, 1]\n",
       "Uniform(a, b)    # Uniform distribution over [a, b]\n",
       "\n",
       "params(d)        # Get the parameters, i.e. (a, b)\n",
       "minimum(d)       # Get the lower bound, i.e. a\n",
       "maximum(d)       # Get the upper bound, i.e. b\n",
       "location(d)      # Get the location parameter, i.e. a\n",
       "scale(d)         # Get the scale parameter, i.e. b - a\n",
       "\\end{verbatim}\n",
       "External links\n",
       "\n",
       "\\begin{itemize}\n",
       "\\item \\href{http://en.wikipedia.org/wiki/Uniform_distribution_(continuous)}{Uniform distribution (continuous) on Wikipedia}\n",
       "\n",
       "\\end{itemize}\n"
      ],
      "text/markdown": [
       "```\n",
       "Uniform(a,b)\n",
       "```\n",
       "\n",
       "The *continuous uniform distribution* over an interval $[a, b]$ has probability density function\n",
       "\n",
       "$$\n",
       "f(x; a, b) = \\frac{1}{b - a}, \\quad a \\le x \\le b\n",
       "$$\n",
       "\n",
       "```julia\n",
       "Uniform()        # Uniform distribution over [0, 1]\n",
       "Uniform(a, b)    # Uniform distribution over [a, b]\n",
       "\n",
       "params(d)        # Get the parameters, i.e. (a, b)\n",
       "minimum(d)       # Get the lower bound, i.e. a\n",
       "maximum(d)       # Get the upper bound, i.e. b\n",
       "location(d)      # Get the location parameter, i.e. a\n",
       "scale(d)         # Get the scale parameter, i.e. b - a\n",
       "```\n",
       "\n",
       "External links\n",
       "\n",
       "  * [Uniform distribution (continuous) on Wikipedia](http://en.wikipedia.org/wiki/Uniform_distribution_(continuous))\n"
      ],
      "text/plain": [
       "\u001b[36m  Uniform(a,b)\u001b[39m\n",
       "\n",
       "  The \u001b[4mcontinuous uniform distribution\u001b[24m over an interval \u001b[35m[a, b]\u001b[39m has probability\n",
       "  density function\n",
       "\n",
       "\u001b[35m  f(x; a, b) = \\frac{1}{b - a}, \\quad a \\le x \\le b\u001b[39m\n",
       "\n",
       "\u001b[36m  Uniform()        # Uniform distribution over [0, 1]\u001b[39m\n",
       "\u001b[36m  Uniform(a, b)    # Uniform distribution over [a, b]\u001b[39m\n",
       "\u001b[36m  \u001b[39m\n",
       "\u001b[36m  params(d)        # Get the parameters, i.e. (a, b)\u001b[39m\n",
       "\u001b[36m  minimum(d)       # Get the lower bound, i.e. a\u001b[39m\n",
       "\u001b[36m  maximum(d)       # Get the upper bound, i.e. b\u001b[39m\n",
       "\u001b[36m  location(d)      # Get the location parameter, i.e. a\u001b[39m\n",
       "\u001b[36m  scale(d)         # Get the scale parameter, i.e. b - a\u001b[39m\n",
       "\n",
       "  External links\n",
       "\n",
       "    •    Uniform distribution (continuous) on Wikipedia\n",
       "        (http://en.wikipedia.org/wiki/Uniform_distribution_(continuous))"
      ]
     },
     "execution_count": 11,
     "metadata": {},
     "output_type": "execute_result"
    }
   ],
   "source": [
    "?Uniform\n"
   ]
  },
  {
   "cell_type": "markdown",
   "id": "technical-victim",
   "metadata": {},
   "source": [
    "doing loops"
   ]
  },
  {
   "cell_type": "code",
   "execution_count": 12,
   "id": "proprietary-scotland",
   "metadata": {},
   "outputs": [
    {
     "name": "stdout",
     "output_type": "stream",
     "text": [
      "1\n",
      "2\n",
      "3\n",
      "4\n",
      "5\n",
      "6\n",
      "7\n",
      "8\n",
      "9\n",
      "10\n"
     ]
    }
   ],
   "source": [
    "n = 0\n",
    "while n < 10\n",
    "    n += 1\n",
    "    println(n)\n",
    "end"
   ]
  },
  {
   "cell_type": "code",
   "execution_count": 13,
   "id": "alert-proposition",
   "metadata": {},
   "outputs": [
    {
     "name": "stdout",
     "output_type": "stream",
     "text": [
      "47\n",
      "49\n",
      "51\n",
      "53\n",
      "55\n",
      "57\n",
      "59\n",
      "61\n",
      "63\n",
      "65\n",
      "67\n"
     ]
    }
   ],
   "source": [
    "n=45\n",
    "while 66 > n\n",
    "    n += 2\n",
    "    println(n)\n",
    "end"
   ]
  },
  {
   "cell_type": "code",
   "execution_count": 14,
   "id": "figured-appliance",
   "metadata": {},
   "outputs": [
    {
     "name": "stdout",
     "output_type": "stream",
     "text": [
      "12\n",
      "13\n",
      "14\n",
      "15\n",
      "16\n",
      "17\n",
      "18\n",
      "19\n",
      "20\n",
      "21\n",
      "22\n",
      "23\n",
      "24\n",
      "25\n",
      "26\n",
      "27\n",
      "28\n",
      "29\n",
      "30\n",
      "31\n",
      "32\n",
      "33\n",
      "34\n",
      "35\n",
      "36\n",
      "37\n",
      "38\n",
      "39\n",
      "40\n",
      "41\n",
      "42\n",
      "43\n",
      "44\n",
      "45\n"
     ]
    }
   ],
   "source": [
    "n = 10\n",
    "m = 1\n",
    "\n",
    "while n+m <45\n",
    "    n += 1 \n",
    "    println(n+m)\n",
    "end\n",
    " "
   ]
  },
  {
   "cell_type": "code",
   "execution_count": 15,
   "id": "pediatric-inventory",
   "metadata": {},
   "outputs": [
    {
     "name": "stdout",
     "output_type": "stream",
     "text": [
      "Hi, Ivo, nice to see u\n",
      "Hi, Car, nice to see u\n",
      "Hi, Loo, nice to see u\n"
     ]
    }
   ],
   "source": [
    "amigas = [\"Ivo\",\"Car\",\"Loo\"]\n",
    "\n",
    "i = 1\n",
    "while i <=length(amigas)\n",
    "    amiga = amigas[i]\n",
    "    println(\"Hi, $amiga, nice to see u\")\n",
    "    i += 1\n",
    "end"
   ]
  },
  {
   "cell_type": "code",
   "execution_count": 16,
   "id": "first-hungary",
   "metadata": {},
   "outputs": [
    {
     "name": "stdout",
     "output_type": "stream",
     "text": [
      "Hola. Tu Vectra me gusta\n",
      "Hola. Tu Golf me gusta\n",
      "Hola. Tu Lobo me gusta\n"
     ]
    }
   ],
   "source": [
    "carros = [\"Vectra\", \"Golf\", \"Lobo\", \"Tourag\"]\n",
    "\n",
    "i=1\n",
    "\n",
    "while i < length(carros)\n",
    "    carro = carros[i]\n",
    "    println(\"Hola. Tu $carro me gusta\")\n",
    "    i += 1\n",
    "end"
   ]
  },
  {
   "cell_type": "code",
   "execution_count": 17,
   "id": "hazardous-intention",
   "metadata": {},
   "outputs": [
    {
     "name": "stdout",
     "output_type": "stream",
     "text": [
      "OK. Malo\n"
     ]
    }
   ],
   "source": [
    "animo = [\"Malo\", \"Bueno\", \"Gandalla\"]\n",
    "\n",
    "for i = 1 \n",
    "    an = animo[i]\n",
    "    println(\"OK. $an\")\n",
    "\n",
    "end"
   ]
  },
  {
   "cell_type": "markdown",
   "id": "capable-cooking",
   "metadata": {},
   "source": [
    "here we are with for"
   ]
  },
  {
   "cell_type": "code",
   "execution_count": 18,
   "id": "portable-april",
   "metadata": {},
   "outputs": [
    {
     "name": "stdout",
     "output_type": "stream",
     "text": [
      "1\n",
      "2\n",
      "3\n",
      "4\n",
      "5\n",
      "6\n",
      "7\n",
      "8\n",
      "9\n",
      "10\n",
      "11\n",
      "12\n",
      "13\n",
      "14\n"
     ]
    }
   ],
   "source": [
    "for n in 1:14\n",
    "    println(n)\n",
    "end "
   ]
  },
  {
   "cell_type": "code",
   "execution_count": 19,
   "id": "conditional-principle",
   "metadata": {},
   "outputs": [
    {
     "name": "stdout",
     "output_type": "stream",
     "text": [
      "1.0\n",
      "3.0\n",
      "6.0\n",
      "10.0\n",
      "15.0\n",
      "21.0\n",
      "28.0\n",
      "36.0\n",
      "45.0\n",
      "55.0\n"
     ]
    }
   ],
   "source": [
    "for n ∈ (1:10)\n",
    "    println(n*(n+1)/2)\n",
    "end"
   ]
  },
  {
   "cell_type": "code",
   "execution_count": 20,
   "id": "characteristic-crime",
   "metadata": {},
   "outputs": [
    {
     "data": {
      "text/plain": [
       "sumaden (generic function with 1 method)"
      ]
     },
     "execution_count": 20,
     "metadata": {},
     "output_type": "execute_result"
    }
   ],
   "source": [
    "function sumaden(n)\n",
    "            print(n*(n+1)/2)\n",
    "end"
   ]
  },
  {
   "cell_type": "code",
   "execution_count": 21,
   "id": "difficult-theory",
   "metadata": {},
   "outputs": [
    {
     "name": "stdout",
     "output_type": "stream",
     "text": [
      "2211.0"
     ]
    }
   ],
   "source": [
    "sumaden(66)"
   ]
  },
  {
   "cell_type": "code",
   "execution_count": 22,
   "id": "ranging-cookbook",
   "metadata": {},
   "outputs": [
    {
     "data": {
      "text/plain": [
       "726"
      ]
     },
     "execution_count": 22,
     "metadata": {},
     "output_type": "execute_result"
    }
   ],
   "source": [
    "sum(55:66)"
   ]
  },
  {
   "cell_type": "code",
   "execution_count": 23,
   "id": "steady-tattoo",
   "metadata": {},
   "outputs": [
    {
     "name": "stdout",
     "output_type": "stream",
     "text": [
      "Estoy feliz\n",
      "Estoy feliz\n",
      "Estoy feliz\n"
     ]
    }
   ],
   "source": [
    "i=10\n",
    "while i<=33\n",
    "    println(\"Estoy feliz\")\n",
    "    i+=10\n",
    "end\n",
    "\n",
    "    "
   ]
  },
  {
   "cell_type": "code",
   "execution_count": 24,
   "id": "thermal-purchase",
   "metadata": {},
   "outputs": [
    {
     "name": "stdout",
     "output_type": "stream",
     "text": [
      "¡Todo va a salir bien\n",
      "¡Todo va a salir bien\n",
      "¡Todo va a salir bien\n"
     ]
    }
   ],
   "source": [
    "i=4\n",
    "while i<222\n",
    "    println(\"¡Todo va a salir bien\")\n",
    "    i+=100\n",
    "end"
   ]
  },
  {
   "cell_type": "code",
   "execution_count": 25,
   "id": "important-speaker",
   "metadata": {},
   "outputs": [
    {
     "name": "stdout",
     "output_type": "stream",
     "text": [
      "Estaremos bien\n",
      "Estaremos bien\n",
      "Estaremos bien\n",
      "Estaremos bien\n",
      "Estaremos bien\n",
      "Estaremos bien\n",
      "Estaremos bien\n"
     ]
    }
   ],
   "source": [
    "i=77\n",
    "while i<84\n",
    "    println(\"Estaremos bien\")\n",
    "    i+=1\n",
    "end"
   ]
  },
  {
   "cell_type": "code",
   "execution_count": 26,
   "id": "aggressive-control",
   "metadata": {},
   "outputs": [
    {
     "name": "stdout",
     "output_type": "stream",
     "text": [
      "We are alredy ok\n",
      "We are alredy ok\n"
     ]
    }
   ],
   "source": [
    "i=10\n",
    "while i<27\n",
    "    println(\"We are alredy ok\")\n",
    "    i += 10\n",
    "end"
   ]
  },
  {
   "cell_type": "code",
   "execution_count": 29,
   "id": "retired-sharp",
   "metadata": {},
   "outputs": [
    {
     "name": "stdout",
     "output_type": "stream",
     "text": [
      "Continuará\n",
      "Continuará\n"
     ]
    }
   ],
   "source": [
    "i=998\n",
    "while i<1000\n",
    "    println(\"Continuará\")\n",
    "    i+=1\n",
    "end"
   ]
  },
  {
   "cell_type": "code",
   "execution_count": 31,
   "id": "subject-praise",
   "metadata": {},
   "outputs": [
    {
     "data": {
      "text/plain": [
       "2-element Array{String,1}:\n",
       " \"Honda\"\n",
       " \"Toyota\""
      ]
     },
     "execution_count": 31,
     "metadata": {},
     "output_type": "execute_result"
    }
   ],
   "source": [
    "moto = [\"Honda\", \"Toyota\"]"
   ]
  },
  {
   "cell_type": "code",
   "execution_count": 36,
   "id": "unnecessary-joshua",
   "metadata": {},
   "outputs": [],
   "source": [
    "m,n = 5,5 \n",
    "A = zeros(m,n);"
   ]
  },
  {
   "cell_type": "code",
   "execution_count": 44,
   "id": "residential-conference",
   "metadata": {},
   "outputs": [],
   "source": [
    "m,n= 8,5\n",
    "B = zeros(m,n).+1*3;"
   ]
  },
  {
   "cell_type": "code",
   "execution_count": 49,
   "id": "continental-intersection",
   "metadata": {},
   "outputs": [
    {
     "data": {
      "text/plain": [
       "2×10 Array{Float64,2}:\n",
       " 3.0  3.0  3.0  3.0  3.0  3.0  3.0  3.0  3.0  3.0\n",
       " 3.0  3.0  3.0  3.0  3.0  3.0  3.0  3.0  3.0  3.0"
      ]
     },
     "execution_count": 49,
     "metadata": {},
     "output_type": "execute_result"
    }
   ],
   "source": [
    "zeros(2,10).+3"
   ]
  },
  {
   "cell_type": "code",
   "execution_count": 50,
   "id": "instrumental-insulation",
   "metadata": {},
   "outputs": [],
   "source": [
    "m,n = 4,4\n",
    "B = zeros(m,n);\n"
   ]
  },
  {
   "cell_type": "code",
   "execution_count": 59,
   "id": "artificial-funds",
   "metadata": {},
   "outputs": [
    {
     "data": {
      "text/plain": [
       "4×4 Array{Float64,2}:\n",
       " 2.0  3.0  4.0  5.0\n",
       " 3.0  4.0  5.0  6.0\n",
       " 4.0  5.0  6.0  7.0\n",
       " 5.0  6.0  7.0  8.0"
      ]
     },
     "execution_count": 59,
     "metadata": {},
     "output_type": "execute_result"
    }
   ],
   "source": [
    "for i ∈ 1:m\n",
    "    for j ∈ 1:n\n",
    "        B[i,j]=  i+j \n",
    "    end \n",
    "end\n",
    "B"
   ]
  },
  {
   "cell_type": "code",
   "execution_count": 60,
   "id": "american-carol",
   "metadata": {},
   "outputs": [
    {
     "data": {
      "text/plain": [
       "4×4 Array{Int64,2}:\n",
       " 2  3  4  5\n",
       " 3  4  5  6\n",
       " 4  5  6  7\n",
       " 5  6  7  8"
      ]
     },
     "execution_count": 60,
     "metadata": {},
     "output_type": "execute_result"
    }
   ],
   "source": [
    "Ce = [i+j for i ∈ 1:m, j ∈ 1:n]\n",
    "        "
   ]
  },
  {
   "cell_type": "code",
   "execution_count": 66,
   "id": "direct-mason",
   "metadata": {},
   "outputs": [
    {
     "data": {
      "text/plain": [
       "1×1 Array{Int64,2}:\n",
       " 2"
      ]
     },
     "metadata": {},
     "output_type": "display_data"
    },
    {
     "data": {
      "text/plain": [
       "2×2 Array{Int64,2}:\n",
       " 2  3\n",
       " 3  4"
      ]
     },
     "metadata": {},
     "output_type": "display_data"
    },
    {
     "data": {
      "text/plain": [
       "3×3 Array{Int64,2}:\n",
       " 2  3  4\n",
       " 3  4  5\n",
       " 4  5  6"
      ]
     },
     "metadata": {},
     "output_type": "display_data"
    },
    {
     "data": {
      "text/plain": [
       "4×4 Array{Int64,2}:\n",
       " 2  3  4  5\n",
       " 3  4  5  6\n",
       " 4  5  6  7\n",
       " 5  6  7  8"
      ]
     },
     "metadata": {},
     "output_type": "display_data"
    },
    {
     "data": {
      "text/plain": [
       "5×5 Array{Int64,2}:\n",
       " 2  3  4  5   6\n",
       " 3  4  5  6   7\n",
       " 4  5  6  7   8\n",
       " 5  6  7  8   9\n",
       " 6  7  8  9  10"
      ]
     },
     "metadata": {},
     "output_type": "display_data"
    },
    {
     "data": {
      "text/plain": [
       "6×6 Array{Int64,2}:\n",
       " 2  3  4   5   6   7\n",
       " 3  4  5   6   7   8\n",
       " 4  5  6   7   8   9\n",
       " 5  6  7   8   9  10\n",
       " 6  7  8   9  10  11\n",
       " 7  8  9  10  11  12"
      ]
     },
     "metadata": {},
     "output_type": "display_data"
    },
    {
     "data": {
      "text/plain": [
       "7×7 Array{Int64,2}:\n",
       " 2  3   4   5   6   7   8\n",
       " 3  4   5   6   7   8   9\n",
       " 4  5   6   7   8   9  10\n",
       " 5  6   7   8   9  10  11\n",
       " 6  7   8   9  10  11  12\n",
       " 7  8   9  10  11  12  13\n",
       " 8  9  10  11  12  13  14"
      ]
     },
     "metadata": {},
     "output_type": "display_data"
    },
    {
     "data": {
      "text/plain": [
       "8×8 Array{Int64,2}:\n",
       " 2   3   4   5   6   7   8   9\n",
       " 3   4   5   6   7   8   9  10\n",
       " 4   5   6   7   8   9  10  11\n",
       " 5   6   7   8   9  10  11  12\n",
       " 6   7   8   9  10  11  12  13\n",
       " 7   8   9  10  11  12  13  14\n",
       " 8   9  10  11  12  13  14  15\n",
       " 9  10  11  12  13  14  15  16"
      ]
     },
     "metadata": {},
     "output_type": "display_data"
    },
    {
     "data": {
      "text/plain": [
       "9×9 Array{Int64,2}:\n",
       "  2   3   4   5   6   7   8   9  10\n",
       "  3   4   5   6   7   8   9  10  11\n",
       "  4   5   6   7   8   9  10  11  12\n",
       "  5   6   7   8   9  10  11  12  13\n",
       "  6   7   8   9  10  11  12  13  14\n",
       "  7   8   9  10  11  12  13  14  15\n",
       "  8   9  10  11  12  13  14  15  16\n",
       "  9  10  11  12  13  14  15  16  17\n",
       " 10  11  12  13  14  15  16  17  18"
      ]
     },
     "metadata": {},
     "output_type": "display_data"
    },
    {
     "data": {
      "text/plain": [
       "10×10 Array{Int64,2}:\n",
       "  2   3   4   5   6   7   8   9  10  11\n",
       "  3   4   5   6   7   8   9  10  11  12\n",
       "  4   5   6   7   8   9  10  11  12  13\n",
       "  5   6   7   8   9  10  11  12  13  14\n",
       "  6   7   8   9  10  11  12  13  14  15\n",
       "  7   8   9  10  11  12  13  14  15  16\n",
       "  8   9  10  11  12  13  14  15  16  17\n",
       "  9  10  11  12  13  14  15  16  17  18\n",
       " 10  11  12  13  14  15  16  17  18  19\n",
       " 11  12  13  14  15  16  17  18  19  20"
      ]
     },
     "metadata": {},
     "output_type": "display_data"
    }
   ],
   "source": [
    "#create ten matrix increasing the arrays\n",
    "for n ∈ 1:10\n",
    "    Iterative = [i+j for i ∈ 1:n, j ∈ 1:n]\n",
    "    display(Iterative) \n",
    "end"
   ]
  },
  {
   "cell_type": "markdown",
   "id": "forced-asian",
   "metadata": {},
   "source": [
    "gonna work with *if* loop"
   ]
  },
  {
   "cell_type": "code",
   "execution_count": 77,
   "id": "convinced-malta",
   "metadata": {},
   "outputs": [],
   "source": [
    "x = π+1\n",
    "y= 3.324324 ;"
   ]
  },
  {
   "cell_type": "code",
   "execution_count": 78,
   "id": "representative-cabinet",
   "metadata": {},
   "outputs": [
    {
     "name": "stdout",
     "output_type": "stream",
     "text": [
      "4.141592653589793 is bigger than 3.324324\n"
     ]
    }
   ],
   "source": [
    "if x > y\n",
    "    println(\"$x is bigger than $y\")\n",
    "elseif y > x\n",
    "    println(\"$y is bigger\") \n",
    "else\n",
    "    println(\"$x y $y son iguales\") \n",
    "end\n",
    "\n",
    "    "
   ]
  },
  {
   "cell_type": "code",
   "execution_count": 81,
   "id": "descending-panel",
   "metadata": {},
   "outputs": [
    {
     "data": {
      "text/plain": [
       "4.141592653589793"
      ]
     },
     "execution_count": 81,
     "metadata": {},
     "output_type": "execute_result"
    }
   ],
   "source": [
    "if x>y \n",
    "    x\n",
    "end"
   ]
  },
  {
   "cell_type": "code",
   "execution_count": 97,
   "id": "incoming-offense",
   "metadata": {},
   "outputs": [
    {
     "name": "stdout",
     "output_type": "stream",
     "text": [
      "Ok\n"
     ]
    }
   ],
   "source": [
    "i=4\n",
    "while 5 >= i\n",
    "    println(\"Ok\")\n",
    "    i+=2\n",
    "\n",
    "end"
   ]
  },
  {
   "cell_type": "code",
   "execution_count": 102,
   "id": "congressional-cartoon",
   "metadata": {},
   "outputs": [
    {
     "data": {
      "text/plain": [
       "3.324324"
      ]
     },
     "execution_count": 102,
     "metadata": {},
     "output_type": "execute_result"
    }
   ],
   "source": [
    " (y >x) ? x : y"
   ]
  },
  {
   "cell_type": "code",
   "execution_count": 105,
   "id": "harmful-transcription",
   "metadata": {},
   "outputs": [
    {
     "data": {
      "text/plain": [
       "false"
      ]
     },
     "execution_count": 105,
     "metadata": {},
     "output_type": "execute_result"
    }
   ],
   "source": [
    "(y>x) && println(\"$x is smaller\")"
   ]
  },
  {
   "cell_type": "markdown",
   "id": "innovative-tsunami",
   "metadata": {},
   "source": [
    "let's see funcitons\n"
   ]
  },
  {
   "cell_type": "code",
   "execution_count": 107,
   "id": "conditional-ivory",
   "metadata": {},
   "outputs": [
    {
     "data": {
      "text/plain": [
       "nombre (generic function with 1 method)"
      ]
     },
     "execution_count": 107,
     "metadata": {},
     "output_type": "execute_result"
    }
   ],
   "source": [
    "function nombre(nombre)\n",
    "    println(\"Dear $nombre. Thanks for visiting\")\n",
    "end"
   ]
  },
  {
   "cell_type": "code",
   "execution_count": 109,
   "id": "cognitive-parallel",
   "metadata": {},
   "outputs": [
    {
     "name": "stdout",
     "output_type": "stream",
     "text": [
      "Dear Karl. Thanks for visiting\n"
     ]
    }
   ],
   "source": [
    "nombre(\"Karl\")"
   ]
  },
  {
   "cell_type": "code",
   "execution_count": 111,
   "id": "solved-controversy",
   "metadata": {},
   "outputs": [
    {
     "data": {
      "text/plain": [
       "f (generic function with 1 method)"
      ]
     },
     "execution_count": 111,
     "metadata": {},
     "output_type": "execute_result"
    }
   ],
   "source": [
    "function f(x)\n",
    "    x\n",
    "end"
   ]
  },
  {
   "cell_type": "code",
   "execution_count": 112,
   "id": "imposed-offset",
   "metadata": {},
   "outputs": [
    {
     "data": {
      "text/plain": [
       "1.111"
      ]
     },
     "execution_count": 112,
     "metadata": {},
     "output_type": "execute_result"
    }
   ],
   "source": [
    "f(1.111)"
   ]
  },
  {
   "cell_type": "code",
   "execution_count": 113,
   "id": "multiple-fancy",
   "metadata": {},
   "outputs": [
    {
     "data": {
      "text/plain": [
       "f (generic function with 1 method)"
      ]
     },
     "execution_count": 113,
     "metadata": {},
     "output_type": "execute_result"
    }
   ],
   "source": [
    "function f(x)\n",
    "    3+x^2\n",
    "end"
   ]
  },
  {
   "cell_type": "code",
   "execution_count": 115,
   "id": "acute-organ",
   "metadata": {},
   "outputs": [
    {
     "data": {
      "text/plain": [
       "1027"
      ]
     },
     "execution_count": 115,
     "metadata": {},
     "output_type": "execute_result"
    }
   ],
   "source": [
    "f(32)"
   ]
  },
  {
   "cell_type": "code",
   "execution_count": 126,
   "id": "accomplished-henry",
   "metadata": {},
   "outputs": [
    {
     "data": {
      "text/plain": [
       "2×3 Array{Float64,2}:\n",
       " 36.1335  36.1335  36.1335\n",
       " 36.1335  36.1335  36.1335"
      ]
     },
     "execution_count": 126,
     "metadata": {},
     "output_type": "execute_result"
    }
   ],
   "source": [
    "zeros(2,3).+(33-44/5465+π)"
   ]
  },
  {
   "cell_type": "code",
   "execution_count": 145,
   "id": "pharmaceutical-boards",
   "metadata": {},
   "outputs": [
    {
     "data": {
      "text/plain": [
       "dame (generic function with 1 method)"
      ]
     },
     "execution_count": 145,
     "metadata": {},
     "output_type": "execute_result"
    }
   ],
   "source": [
    "function dame(n,m)\n",
    "    pot= n^m\n",
    "end\n"
   ]
  },
  {
   "cell_type": "code",
   "execution_count": 163,
   "id": "material-paper",
   "metadata": {},
   "outputs": [
    {
     "data": {
      "text/plain": [
       "derivado (generic function with 1 method)"
      ]
     },
     "execution_count": 163,
     "metadata": {},
     "output_type": "execute_result"
    }
   ],
   "source": [
    "function derivado(Monto_prestado, Monto_obtenido)\n",
    "    der= max(Monto_prestado, Monto_obtenido)-min(Monto_prestado,Monto_obtenido)\n",
    "end\n"
   ]
  },
  {
   "cell_type": "code",
   "execution_count": 164,
   "id": "optimum-treasury",
   "metadata": {},
   "outputs": [
    {
     "data": {
      "text/plain": [
       "667"
      ]
     },
     "execution_count": 164,
     "metadata": {},
     "output_type": "execute_result"
    }
   ],
   "source": [
    "derivado(3444,2777)"
   ]
  },
  {
   "cell_type": "code",
   "execution_count": null,
   "id": "pleasant-borough",
   "metadata": {},
   "outputs": [],
   "source": []
  }
 ],
 "metadata": {
  "kernelspec": {
   "display_name": "Julia 1.5.4",
   "language": "julia",
   "name": "julia-1.5"
  },
  "language_info": {
   "file_extension": ".jl",
   "mimetype": "application/julia",
   "name": "julia",
   "version": "1.5.4"
  }
 },
 "nbformat": 4,
 "nbformat_minor": 5
}
