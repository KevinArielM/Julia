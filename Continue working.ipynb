{
 "cells": [
  {
   "cell_type": "code",
   "execution_count": 1,
   "id": "tough-canada",
   "metadata": {},
   "outputs": [],
   "source": [
    "using Distributions, CSV, DataFrames, Statistics, Plots, LinearAlgebra"
   ]
  },
  {
   "cell_type": "code",
   "execution_count": 28,
   "id": "smaller-resistance",
   "metadata": {},
   "outputs": [
    {
     "name": "stdout",
     "output_type": "stream",
     "text": [
      "Loaded functions: Fn  Tn  EDA  Bn  cuantil_puntual  GoF\n",
      "Package dependencies: Distributions (just for Bn)\n"
     ]
    }
   ],
   "source": [
    "include(\"Stats3.all.jl\")"
   ]
  },
  {
   "cell_type": "code",
   "execution_count": 24,
   "id": "enabling-musical",
   "metadata": {},
   "outputs": [
    {
     "name": "stdout",
     "output_type": "stream",
     "text": [
      "search: \u001b[0m\u001b[1mF\u001b[22m\u001b[0m\u001b[1mn\u001b[22m \u001b[0m\u001b[1mf\u001b[22mo\u001b[0m\u001b[1mn\u001b[22mt \u001b[0m\u001b[1mf\u001b[22mi\u001b[0m\u001b[1mn\u001b[22mally \u001b[0m\u001b[1mF\u001b[22mu\u001b[0m\u001b[1mn\u001b[22mction \u001b[0m\u001b[1mf\u001b[22mi\u001b[0m\u001b[1mn\u001b[22mdmin \u001b[0m\u001b[1mf\u001b[22mi\u001b[0m\u001b[1mn\u001b[22mdmax \u001b[0m\u001b[1mf\u001b[22mi\u001b[0m\u001b[1mn\u001b[22mdall \u001b[0m\u001b[1mf\u001b[22mu\u001b[0m\u001b[1mn\u001b[22mction \u001b[0m\u001b[1mf\u001b[22mi\u001b[0m\u001b[1mn\u001b[22mdprev\n",
      "\n"
     ]
    },
    {
     "data": {
      "text/latex": [
       "\\begin{verbatim}\n",
       "Fn(x, xobs)\n",
       "\\end{verbatim}\n",
       "Empirical distribution function evaluated at value \\texttt{x} using the observed random sample in a vector \\texttt{xobs}.\n",
       "\n",
       "\\section{Example}\n",
       "\\begin{verbatim}\n",
       "Fn(1/2, rand(50))\n",
       "\\end{verbatim}\n"
      ],
      "text/markdown": [
       "```\n",
       "Fn(x, xobs)\n",
       "```\n",
       "\n",
       "Empirical distribution function evaluated at value `x` using the observed random sample in a vector `xobs`.\n",
       "\n",
       "# Example\n",
       "\n",
       "```\n",
       "Fn(1/2, rand(50))\n",
       "```\n"
      ],
      "text/plain": [
       "\u001b[36m  Fn(x, xobs)\u001b[39m\n",
       "\n",
       "  Empirical distribution function evaluated at value \u001b[36mx\u001b[39m using the observed\n",
       "  random sample in a vector \u001b[36mxobs\u001b[39m.\n",
       "\n",
       "\u001b[1m  Example\u001b[22m\n",
       "\u001b[1m  ≡≡≡≡≡≡≡≡≡\u001b[22m\n",
       "\n",
       "\u001b[36m  Fn(1/2, rand(50))\u001b[39m"
      ]
     },
     "execution_count": 24,
     "metadata": {},
     "output_type": "execute_result"
    }
   ],
   "source": [
    "?Fn"
   ]
  },
  {
   "cell_type": "code",
   "execution_count": 34,
   "id": "respective-sister",
   "metadata": {},
   "outputs": [
    {
     "data": {
      "text/plain": [
       "0.7500225216297732"
      ]
     },
     "execution_count": 34,
     "metadata": {},
     "output_type": "execute_result"
    }
   ],
   "source": [
    "Fn(3/4,rand(555022))"
   ]
  },
  {
   "cell_type": "code",
   "execution_count": null,
   "id": "relevant-amazon",
   "metadata": {},
   "outputs": [],
   "source": []
  }
 ],
 "metadata": {
  "kernelspec": {
   "display_name": "Julia 1.5.4",
   "language": "julia",
   "name": "julia-1.5"
  },
  "language_info": {
   "file_extension": ".jl",
   "mimetype": "application/julia",
   "name": "julia",
   "version": "1.5.4"
  }
 },
 "nbformat": 4,
 "nbformat_minor": 5
}
